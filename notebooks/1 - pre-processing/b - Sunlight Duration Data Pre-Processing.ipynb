{
 "cells": [
  {
   "cell_type": "code",
   "execution_count": 1,
   "id": "9575fc08-ffe8-4538-bd4c-ec8fdad2201e",
   "metadata": {},
   "outputs": [],
   "source": [
    "# Importing dependencies\n",
    "\n",
    "import pandas as pd"
   ]
  },
  {
   "cell_type": "markdown",
   "id": "0cb68d8f-19a9-4b44-ac3d-20d86cce54bb",
   "metadata": {},
   "source": [
    "# Data Collection\n",
    "\n",
    "Data was collected from **this data source:** https://sunrise.maplogs.com/palm_springs_ca_usa.83480.html, namely by using the `pd.read_clipboard() method` after clicking the `Show All Dates` button and the copying all the rows in the supplied data table. Coulda written a script to scrape it, but that would've taken more time than the described approach. The resulting dataframes (for 2021 and 2022) were then exported to the `data/raw` sub-directory for processing here.\n",
    "\n",
    "<img src = '../../../images/daylength-data-screenshot.jpg' width = 40%>"
   ]
  },
  {
   "cell_type": "code",
   "execution_count": 2,
   "id": "19bc80ac-bc0e-4cc8-94d7-b7aedcc281bc",
   "metadata": {},
   "outputs": [],
   "source": [
    "# Reading in data and instantiating dataframes\n",
    "\n",
    "sunlight_duration_2021 = pd.read_csv('../../data/raw/sunlight-duration-2021.csv', index_col = 0)\n",
    "sunlight_duration_2022 = pd.read_csv('../../data/raw/sunlight-duration-2022.csv', index_col = 0)"
   ]
  },
  {
   "cell_type": "code",
   "execution_count": 3,
   "id": "79417987-5fa6-41d8-b858-4f7fcfc62479",
   "metadata": {},
   "outputs": [],
   "source": [
    "# Concatenate the instantiated dataframes into a single dataframe\n",
    "\n",
    "df = pd.concat([sunlight_duration_2021, sunlight_duration_2022], ignore_index=True)"
   ]
  },
  {
   "cell_type": "code",
   "execution_count": 4,
   "id": "c8ee8747-19df-4d68-9d55-a9eabd590faf",
   "metadata": {},
   "outputs": [
    {
     "data": {
      "text/html": [
       "<div>\n",
       "<style scoped>\n",
       "    .dataframe tbody tr th:only-of-type {\n",
       "        vertical-align: middle;\n",
       "    }\n",
       "\n",
       "    .dataframe tbody tr th {\n",
       "        vertical-align: top;\n",
       "    }\n",
       "\n",
       "    .dataframe thead th {\n",
       "        text-align: right;\n",
       "    }\n",
       "</style>\n",
       "<table border=\"1\" class=\"dataframe\">\n",
       "  <thead>\n",
       "    <tr style=\"text-align: right;\">\n",
       "      <th></th>\n",
       "      <th>Date</th>\n",
       "      <th>Sunrise</th>\n",
       "      <th>Sunset</th>\n",
       "      <th>Daylength</th>\n",
       "    </tr>\n",
       "  </thead>\n",
       "  <tbody>\n",
       "    <tr>\n",
       "      <th>0</th>\n",
       "      <td>11/17/2021</td>\n",
       "      <td>06:21:29 AM</td>\n",
       "      <td>04:41:21 PM</td>\n",
       "      <td>10h 19m 52s</td>\n",
       "    </tr>\n",
       "    <tr>\n",
       "      <th>1</th>\n",
       "      <td>11/18/2021</td>\n",
       "      <td>06:22:25 AM</td>\n",
       "      <td>04:40:52 PM</td>\n",
       "      <td>10h 18m 27s</td>\n",
       "    </tr>\n",
       "    <tr>\n",
       "      <th>2</th>\n",
       "      <td>11/19/2021</td>\n",
       "      <td>06:23:21 AM</td>\n",
       "      <td>04:40:25 PM</td>\n",
       "      <td>10h 17m 4s</td>\n",
       "    </tr>\n",
       "    <tr>\n",
       "      <th>3</th>\n",
       "      <td>11/20/2021</td>\n",
       "      <td>06:24:17 AM</td>\n",
       "      <td>04:39:59 PM</td>\n",
       "      <td>10h 15m 42s</td>\n",
       "    </tr>\n",
       "    <tr>\n",
       "      <th>4</th>\n",
       "      <td>11/21/2021</td>\n",
       "      <td>06:25:12 AM</td>\n",
       "      <td>04:39:35 PM</td>\n",
       "      <td>10h 14m 23s</td>\n",
       "    </tr>\n",
       "  </tbody>\n",
       "</table>\n",
       "</div>"
      ],
      "text/plain": [
       "         Date      Sunrise       Sunset    Daylength\n",
       "0  11/17/2021  06:21:29 AM  04:41:21 PM  10h 19m 52s\n",
       "1  11/18/2021  06:22:25 AM  04:40:52 PM  10h 18m 27s\n",
       "2  11/19/2021  06:23:21 AM  04:40:25 PM   10h 17m 4s\n",
       "3  11/20/2021  06:24:17 AM  04:39:59 PM  10h 15m 42s\n",
       "4  11/21/2021  06:25:12 AM  04:39:35 PM  10h 14m 23s"
      ]
     },
     "execution_count": 4,
     "metadata": {},
     "output_type": "execute_result"
    }
   ],
   "source": [
    "# Taking a peek\n",
    "\n",
    "df.head()"
   ]
  },
  {
   "cell_type": "code",
   "execution_count": 5,
   "id": "31ea5049-bd20-4a61-80f0-ec05134dafdd",
   "metadata": {},
   "outputs": [
    {
     "data": {
      "text/html": [
       "<div>\n",
       "<style scoped>\n",
       "    .dataframe tbody tr th:only-of-type {\n",
       "        vertical-align: middle;\n",
       "    }\n",
       "\n",
       "    .dataframe tbody tr th {\n",
       "        vertical-align: top;\n",
       "    }\n",
       "\n",
       "    .dataframe thead th {\n",
       "        text-align: right;\n",
       "    }\n",
       "</style>\n",
       "<table border=\"1\" class=\"dataframe\">\n",
       "  <thead>\n",
       "    <tr style=\"text-align: right;\">\n",
       "      <th></th>\n",
       "      <th>Date</th>\n",
       "      <th>Sunrise</th>\n",
       "      <th>Sunset</th>\n",
       "      <th>Daylength</th>\n",
       "    </tr>\n",
       "  </thead>\n",
       "  <tbody>\n",
       "    <tr>\n",
       "      <th>405</th>\n",
       "      <td>12/27/2022</td>\n",
       "      <td>06:50:05 AM</td>\n",
       "      <td>04:45:28 PM</td>\n",
       "      <td>9h 55m 23s</td>\n",
       "    </tr>\n",
       "    <tr>\n",
       "      <th>406</th>\n",
       "      <td>12/28/2022</td>\n",
       "      <td>06:50:23 AM</td>\n",
       "      <td>04:46:09 PM</td>\n",
       "      <td>9h 55m 46s</td>\n",
       "    </tr>\n",
       "    <tr>\n",
       "      <th>407</th>\n",
       "      <td>12/29/2022</td>\n",
       "      <td>06:50:39 AM</td>\n",
       "      <td>04:46:50 PM</td>\n",
       "      <td>9h 56m 11s</td>\n",
       "    </tr>\n",
       "    <tr>\n",
       "      <th>408</th>\n",
       "      <td>12/30/2022</td>\n",
       "      <td>06:50:54 AM</td>\n",
       "      <td>04:47:33 PM</td>\n",
       "      <td>9h 56m 39s</td>\n",
       "    </tr>\n",
       "    <tr>\n",
       "      <th>409</th>\n",
       "      <td>12/31/2022</td>\n",
       "      <td>06:51:06 AM</td>\n",
       "      <td>04:48:17 PM</td>\n",
       "      <td>9h 57m 11s</td>\n",
       "    </tr>\n",
       "  </tbody>\n",
       "</table>\n",
       "</div>"
      ],
      "text/plain": [
       "           Date      Sunrise       Sunset   Daylength\n",
       "405  12/27/2022  06:50:05 AM  04:45:28 PM  9h 55m 23s\n",
       "406  12/28/2022  06:50:23 AM  04:46:09 PM  9h 55m 46s\n",
       "407  12/29/2022  06:50:39 AM  04:46:50 PM  9h 56m 11s\n",
       "408  12/30/2022  06:50:54 AM  04:47:33 PM  9h 56m 39s\n",
       "409  12/31/2022  06:51:06 AM  04:48:17 PM  9h 57m 11s"
      ]
     },
     "execution_count": 5,
     "metadata": {},
     "output_type": "execute_result"
    }
   ],
   "source": [
    "# There's more data here than we need, based on the period we're focused on, as dictated\n",
    "# by the periods described in the available power bill statements\n",
    "\n",
    "df.tail()"
   ]
  },
  {
   "cell_type": "code",
   "execution_count": 6,
   "id": "3fc53204-244d-425f-ace6-7a546039a9f9",
   "metadata": {},
   "outputs": [],
   "source": [
    "# Exporting CSV for downstream processing\n",
    "\n",
    "df.to_csv('../../data/interim/combined-sunlight-duration-data.csv')"
   ]
  }
 ],
 "metadata": {
  "kernelspec": {
   "display_name": "Python 3 (ipykernel)",
   "language": "python",
   "name": "python3"
  },
  "language_info": {
   "codemirror_mode": {
    "name": "ipython",
    "version": 3
   },
   "file_extension": ".py",
   "mimetype": "text/x-python",
   "name": "python",
   "nbconvert_exporter": "python",
   "pygments_lexer": "ipython3",
   "version": "3.9.12"
  }
 },
 "nbformat": 4,
 "nbformat_minor": 5
}
