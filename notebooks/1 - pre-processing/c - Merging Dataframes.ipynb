{
 "cells": [
  {
   "cell_type": "code",
   "execution_count": 1,
   "id": "30f3774d-1405-4446-b008-8d147ba35ec7",
   "metadata": {},
   "outputs": [],
   "source": [
    "# Importing dependencies\n",
    "\n",
    "import pandas as pd"
   ]
  },
  {
   "cell_type": "code",
   "execution_count": 2,
   "id": "0511d4af-51c1-48ba-bb3a-c11b1074ea4b",
   "metadata": {},
   "outputs": [],
   "source": [
    "# Reading in previously-processed datasets,\n",
    "# namely the solar and daylength CSVs\n",
    "\n",
    "solar_data = pd.read_csv('../../data/processed/solar_data.csv', index_col = 0).reset_index()\n",
    "sunlight_duration_data = pd.read_csv('../../data/processed/sunlight_duration_in_decimal_hrs.csv', index_col = 0).reset_index()"
   ]
  },
  {
   "cell_type": "code",
   "execution_count": 3,
   "id": "ffc1553c-e7b1-4098-af35-43c1ea4b74f1",
   "metadata": {},
   "outputs": [],
   "source": [
    "# Merging the dataframes and exporting them as\n",
    "# one CSV for downstream processing\n",
    "\n",
    "solar_data.merge(sunlight_duration_data, how='inner', on = 'Date').set_index('Date').to_csv('../../data/processed/solar_and_daylength_data.csv')"
   ]
  },
  {
   "cell_type": "code",
   "execution_count": null,
   "id": "4d7a36fc-af0c-4fba-afdc-c4b53efd38a7",
   "metadata": {},
   "outputs": [],
   "source": []
  }
 ],
 "metadata": {
  "kernelspec": {
   "display_name": "Python 3 (ipykernel)",
   "language": "python",
   "name": "python3"
  },
  "language_info": {
   "codemirror_mode": {
    "name": "ipython",
    "version": 3
   },
   "file_extension": ".py",
   "mimetype": "text/x-python",
   "name": "python",
   "nbconvert_exporter": "python",
   "pygments_lexer": "ipython3",
   "version": "3.9.12"
  }
 },
 "nbformat": 4,
 "nbformat_minor": 5
}
