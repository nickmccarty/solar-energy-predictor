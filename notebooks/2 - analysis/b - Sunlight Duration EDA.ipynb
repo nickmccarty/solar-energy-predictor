{
 "cells": [
  {
   "cell_type": "code",
   "execution_count": 1,
   "id": "4945f6fa-9237-4ba7-a6dc-7a370b6d445c",
   "metadata": {},
   "outputs": [],
   "source": [
    "import pandas as pd\n",
    "import matplotlib.pyplot as plt"
   ]
  },
  {
   "cell_type": "code",
   "execution_count": 2,
   "id": "3d8d39f3-0753-4b33-8538-6b9eac49e047",
   "metadata": {},
   "outputs": [],
   "source": [
    "df = pd.read_csv('../../data/interim/combined-sunlight-duration-data.csv', index_col = 0)"
   ]
  },
  {
   "cell_type": "code",
   "execution_count": 3,
   "id": "332f7bfc-3930-4e1c-9c8f-9df6f411e518",
   "metadata": {},
   "outputs": [],
   "source": [
    "def decimal_hr_calc(hrs, mins, secs):\n",
    "    decimal_hrs = hrs + (mins / 60) + (secs / 3600)\n",
    "    return round(decimal_hrs, 2)"
   ]
  },
  {
   "cell_type": "code",
   "execution_count": 4,
   "id": "3d91259b-1f5c-43d6-b4f7-d4b86acee34d",
   "metadata": {},
   "outputs": [
    {
     "data": {
      "text/plain": [
       "10.31"
      ]
     },
     "execution_count": 4,
     "metadata": {},
     "output_type": "execute_result"
    }
   ],
   "source": [
    "decimal_hr_calc(10, 18, 52)"
   ]
  },
  {
   "cell_type": "code",
   "execution_count": 5,
   "id": "38ca06c5-db17-4599-9cb3-62248c587bcb",
   "metadata": {},
   "outputs": [],
   "source": [
    "df['Daylength in decimal hours'] = [decimal_hr_calc(int(row.split(' ')[0][0:-1]),\n",
    "                                                    int(row.split(' ')[1][:-1]),\n",
    "                                                    int(row.split(' ')[2][:-1])) for row in df['Daylength']]"
   ]
  },
  {
   "cell_type": "code",
   "execution_count": 6,
   "id": "cad012bf-c2e8-44bb-86d2-caaf5c43007e",
   "metadata": {},
   "outputs": [
    {
     "data": {
      "text/html": [
       "<div>\n",
       "<style scoped>\n",
       "    .dataframe tbody tr th:only-of-type {\n",
       "        vertical-align: middle;\n",
       "    }\n",
       "\n",
       "    .dataframe tbody tr th {\n",
       "        vertical-align: top;\n",
       "    }\n",
       "\n",
       "    .dataframe thead th {\n",
       "        text-align: right;\n",
       "    }\n",
       "</style>\n",
       "<table border=\"1\" class=\"dataframe\">\n",
       "  <thead>\n",
       "    <tr style=\"text-align: right;\">\n",
       "      <th></th>\n",
       "      <th>Date</th>\n",
       "      <th>Sunrise</th>\n",
       "      <th>Sunset</th>\n",
       "      <th>Daylength</th>\n",
       "      <th>Daylength in decimal hours</th>\n",
       "    </tr>\n",
       "  </thead>\n",
       "  <tbody>\n",
       "    <tr>\n",
       "      <th>0</th>\n",
       "      <td>11/17/2021</td>\n",
       "      <td>06:21:29 AM</td>\n",
       "      <td>04:41:21 PM</td>\n",
       "      <td>10h 19m 52s</td>\n",
       "      <td>10.33</td>\n",
       "    </tr>\n",
       "    <tr>\n",
       "      <th>1</th>\n",
       "      <td>11/18/2021</td>\n",
       "      <td>06:22:25 AM</td>\n",
       "      <td>04:40:52 PM</td>\n",
       "      <td>10h 18m 27s</td>\n",
       "      <td>10.31</td>\n",
       "    </tr>\n",
       "    <tr>\n",
       "      <th>2</th>\n",
       "      <td>11/19/2021</td>\n",
       "      <td>06:23:21 AM</td>\n",
       "      <td>04:40:25 PM</td>\n",
       "      <td>10h 17m 4s</td>\n",
       "      <td>10.28</td>\n",
       "    </tr>\n",
       "    <tr>\n",
       "      <th>3</th>\n",
       "      <td>11/20/2021</td>\n",
       "      <td>06:24:17 AM</td>\n",
       "      <td>04:39:59 PM</td>\n",
       "      <td>10h 15m 42s</td>\n",
       "      <td>10.26</td>\n",
       "    </tr>\n",
       "    <tr>\n",
       "      <th>4</th>\n",
       "      <td>11/21/2021</td>\n",
       "      <td>06:25:12 AM</td>\n",
       "      <td>04:39:35 PM</td>\n",
       "      <td>10h 14m 23s</td>\n",
       "      <td>10.24</td>\n",
       "    </tr>\n",
       "    <tr>\n",
       "      <th>...</th>\n",
       "      <td>...</td>\n",
       "      <td>...</td>\n",
       "      <td>...</td>\n",
       "      <td>...</td>\n",
       "      <td>...</td>\n",
       "    </tr>\n",
       "    <tr>\n",
       "      <th>405</th>\n",
       "      <td>12/27/2022</td>\n",
       "      <td>06:50:05 AM</td>\n",
       "      <td>04:45:28 PM</td>\n",
       "      <td>9h 55m 23s</td>\n",
       "      <td>9.92</td>\n",
       "    </tr>\n",
       "    <tr>\n",
       "      <th>406</th>\n",
       "      <td>12/28/2022</td>\n",
       "      <td>06:50:23 AM</td>\n",
       "      <td>04:46:09 PM</td>\n",
       "      <td>9h 55m 46s</td>\n",
       "      <td>9.93</td>\n",
       "    </tr>\n",
       "    <tr>\n",
       "      <th>407</th>\n",
       "      <td>12/29/2022</td>\n",
       "      <td>06:50:39 AM</td>\n",
       "      <td>04:46:50 PM</td>\n",
       "      <td>9h 56m 11s</td>\n",
       "      <td>9.94</td>\n",
       "    </tr>\n",
       "    <tr>\n",
       "      <th>408</th>\n",
       "      <td>12/30/2022</td>\n",
       "      <td>06:50:54 AM</td>\n",
       "      <td>04:47:33 PM</td>\n",
       "      <td>9h 56m 39s</td>\n",
       "      <td>9.94</td>\n",
       "    </tr>\n",
       "    <tr>\n",
       "      <th>409</th>\n",
       "      <td>12/31/2022</td>\n",
       "      <td>06:51:06 AM</td>\n",
       "      <td>04:48:17 PM</td>\n",
       "      <td>9h 57m 11s</td>\n",
       "      <td>9.95</td>\n",
       "    </tr>\n",
       "  </tbody>\n",
       "</table>\n",
       "<p>410 rows × 5 columns</p>\n",
       "</div>"
      ],
      "text/plain": [
       "           Date      Sunrise       Sunset    Daylength  \\\n",
       "0    11/17/2021  06:21:29 AM  04:41:21 PM  10h 19m 52s   \n",
       "1    11/18/2021  06:22:25 AM  04:40:52 PM  10h 18m 27s   \n",
       "2    11/19/2021  06:23:21 AM  04:40:25 PM   10h 17m 4s   \n",
       "3    11/20/2021  06:24:17 AM  04:39:59 PM  10h 15m 42s   \n",
       "4    11/21/2021  06:25:12 AM  04:39:35 PM  10h 14m 23s   \n",
       "..          ...          ...          ...          ...   \n",
       "405  12/27/2022  06:50:05 AM  04:45:28 PM   9h 55m 23s   \n",
       "406  12/28/2022  06:50:23 AM  04:46:09 PM   9h 55m 46s   \n",
       "407  12/29/2022  06:50:39 AM  04:46:50 PM   9h 56m 11s   \n",
       "408  12/30/2022  06:50:54 AM  04:47:33 PM   9h 56m 39s   \n",
       "409  12/31/2022  06:51:06 AM  04:48:17 PM   9h 57m 11s   \n",
       "\n",
       "     Daylength in decimal hours  \n",
       "0                         10.33  \n",
       "1                         10.31  \n",
       "2                         10.28  \n",
       "3                         10.26  \n",
       "4                         10.24  \n",
       "..                          ...  \n",
       "405                        9.92  \n",
       "406                        9.93  \n",
       "407                        9.94  \n",
       "408                        9.94  \n",
       "409                        9.95  \n",
       "\n",
       "[410 rows x 5 columns]"
      ]
     },
     "execution_count": 6,
     "metadata": {},
     "output_type": "execute_result"
    }
   ],
   "source": [
    "df"
   ]
  },
  {
   "cell_type": "code",
   "execution_count": 7,
   "id": "b101ff9b-7641-4403-9d2b-2b24906a3045",
   "metadata": {},
   "outputs": [],
   "source": [
    "df['Sunrise'] = pd.to_datetime(df['Date'] + ' ' + df['Sunrise'])\n",
    "df['Sunset'] = pd.to_datetime(df['Date'] + ' ' + df['Sunset'])\n",
    "\n",
    "df['Date'] = pd.to_datetime(df['Date'])\n",
    "df.set_index('Date', inplace = True)"
   ]
  },
  {
   "cell_type": "code",
   "execution_count": 8,
   "id": "6a4b231b-d68c-4f54-a5eb-0c683d7756a8",
   "metadata": {},
   "outputs": [
    {
     "data": {
      "text/html": [
       "<div>\n",
       "<style scoped>\n",
       "    .dataframe tbody tr th:only-of-type {\n",
       "        vertical-align: middle;\n",
       "    }\n",
       "\n",
       "    .dataframe tbody tr th {\n",
       "        vertical-align: top;\n",
       "    }\n",
       "\n",
       "    .dataframe thead th {\n",
       "        text-align: right;\n",
       "    }\n",
       "</style>\n",
       "<table border=\"1\" class=\"dataframe\">\n",
       "  <thead>\n",
       "    <tr style=\"text-align: right;\">\n",
       "      <th></th>\n",
       "      <th>Date</th>\n",
       "      <th>Daylength in decimal hours</th>\n",
       "    </tr>\n",
       "  </thead>\n",
       "  <tbody>\n",
       "    <tr>\n",
       "      <th>0</th>\n",
       "      <td>2021-11-17</td>\n",
       "      <td>10.33</td>\n",
       "    </tr>\n",
       "    <tr>\n",
       "      <th>1</th>\n",
       "      <td>2021-11-18</td>\n",
       "      <td>10.31</td>\n",
       "    </tr>\n",
       "    <tr>\n",
       "      <th>2</th>\n",
       "      <td>2021-11-19</td>\n",
       "      <td>10.28</td>\n",
       "    </tr>\n",
       "    <tr>\n",
       "      <th>3</th>\n",
       "      <td>2021-11-20</td>\n",
       "      <td>10.26</td>\n",
       "    </tr>\n",
       "    <tr>\n",
       "      <th>4</th>\n",
       "      <td>2021-11-21</td>\n",
       "      <td>10.24</td>\n",
       "    </tr>\n",
       "    <tr>\n",
       "      <th>...</th>\n",
       "      <td>...</td>\n",
       "      <td>...</td>\n",
       "    </tr>\n",
       "    <tr>\n",
       "      <th>405</th>\n",
       "      <td>2022-12-27</td>\n",
       "      <td>9.92</td>\n",
       "    </tr>\n",
       "    <tr>\n",
       "      <th>406</th>\n",
       "      <td>2022-12-28</td>\n",
       "      <td>9.93</td>\n",
       "    </tr>\n",
       "    <tr>\n",
       "      <th>407</th>\n",
       "      <td>2022-12-29</td>\n",
       "      <td>9.94</td>\n",
       "    </tr>\n",
       "    <tr>\n",
       "      <th>408</th>\n",
       "      <td>2022-12-30</td>\n",
       "      <td>9.94</td>\n",
       "    </tr>\n",
       "    <tr>\n",
       "      <th>409</th>\n",
       "      <td>2022-12-31</td>\n",
       "      <td>9.95</td>\n",
       "    </tr>\n",
       "  </tbody>\n",
       "</table>\n",
       "<p>410 rows × 2 columns</p>\n",
       "</div>"
      ],
      "text/plain": [
       "          Date  Daylength in decimal hours\n",
       "0   2021-11-17                       10.33\n",
       "1   2021-11-18                       10.31\n",
       "2   2021-11-19                       10.28\n",
       "3   2021-11-20                       10.26\n",
       "4   2021-11-21                       10.24\n",
       "..         ...                         ...\n",
       "405 2022-12-27                        9.92\n",
       "406 2022-12-28                        9.93\n",
       "407 2022-12-29                        9.94\n",
       "408 2022-12-30                        9.94\n",
       "409 2022-12-31                        9.95\n",
       "\n",
       "[410 rows x 2 columns]"
      ]
     },
     "execution_count": 8,
     "metadata": {},
     "output_type": "execute_result"
    }
   ],
   "source": [
    "sunlight_df = df.reset_index()[['Date', 'Daylength in decimal hours']]\n",
    "\n",
    "sunlight_df"
   ]
  },
  {
   "cell_type": "code",
   "execution_count": 9,
   "id": "f017e2f7-db73-4141-a3c4-d18c6e48bb4a",
   "metadata": {},
   "outputs": [
    {
     "data": {
      "image/png": "[encoded data removed]",
      "text/plain": [
       "<Figure size 432x288 with 1 Axes>"
      ]
     },
     "metadata": {
      "needs_background": "light"
     },
     "output_type": "display_data"
    }
   ],
   "source": [
    "sunlight_df.set_index('Date', inplace = True)\n",
    "plt.plot(sunlight_df)\n",
    "plt.gcf().autofmt_xdate()\n",
    "plt.show()"
   ]
  },
  {
   "cell_type": "code",
   "execution_count": 10,
   "id": "d705ca6c-0268-46ff-a32e-530c2532e6d2",
   "metadata": {},
   "outputs": [
    {
     "data": {
      "text/plain": [
       "Sunrise                       2022-11-04 07:09:08\n",
       "Sunset                        2022-11-04 17:50:24\n",
       "Daylength                             10h 41m 16s\n",
       "Daylength in decimal hours                  10.69\n",
       "Name: 2022-11-04 00:00:00, dtype: object"
      ]
     },
     "execution_count": 10,
     "metadata": {},
     "output_type": "execute_result"
    }
   ],
   "source": [
    "df.loc['2022-11-4']"
   ]
  },
  {
   "cell_type": "code",
   "execution_count": 11,
   "id": "87df501c-d9fd-43de-b22d-f862133195c7",
   "metadata": {},
   "outputs": [
    {
     "data": {
      "text/html": [
       "<div>\n",
       "<style scoped>\n",
       "    .dataframe tbody tr th:only-of-type {\n",
       "        vertical-align: middle;\n",
       "    }\n",
       "\n",
       "    .dataframe tbody tr th {\n",
       "        vertical-align: top;\n",
       "    }\n",
       "\n",
       "    .dataframe thead th {\n",
       "        text-align: right;\n",
       "    }\n",
       "</style>\n",
       "<table border=\"1\" class=\"dataframe\">\n",
       "  <thead>\n",
       "    <tr style=\"text-align: right;\">\n",
       "      <th></th>\n",
       "      <th>Date time</th>\n",
       "      <th>Solar (kW)</th>\n",
       "    </tr>\n",
       "  </thead>\n",
       "  <tbody>\n",
       "    <tr>\n",
       "      <th>0</th>\n",
       "      <td>2022-05-11T00:00:00-08:00</td>\n",
       "      <td>0.0</td>\n",
       "    </tr>\n",
       "    <tr>\n",
       "      <th>1</th>\n",
       "      <td>2022-05-11T00:15:00-08:00</td>\n",
       "      <td>0.0</td>\n",
       "    </tr>\n",
       "    <tr>\n",
       "      <th>2</th>\n",
       "      <td>2022-05-11T00:30:00-08:00</td>\n",
       "      <td>0.0</td>\n",
       "    </tr>\n",
       "    <tr>\n",
       "      <th>3</th>\n",
       "      <td>2022-05-11T00:45:00-08:00</td>\n",
       "      <td>0.0</td>\n",
       "    </tr>\n",
       "    <tr>\n",
       "      <th>4</th>\n",
       "      <td>2022-05-11T01:00:00-08:00</td>\n",
       "      <td>0.0</td>\n",
       "    </tr>\n",
       "  </tbody>\n",
       "</table>\n",
       "</div>"
      ],
      "text/plain": [
       "                   Date time  Solar (kW)\n",
       "0  2022-05-11T00:00:00-08:00         0.0\n",
       "1  2022-05-11T00:15:00-08:00         0.0\n",
       "2  2022-05-11T00:30:00-08:00         0.0\n",
       "3  2022-05-11T00:45:00-08:00         0.0\n",
       "4  2022-05-11T01:00:00-08:00         0.0"
      ]
     },
     "execution_count": 11,
     "metadata": {},
     "output_type": "execute_result"
    }
   ],
   "source": [
    "spot_check_11_4_2022 = pd.read_csv('https://gist.githubusercontent.com/nickmccarty/06d8a3bffa6c5511261ea0213faa06b3/raw/934c91f1469a4c7d0d1ce744a0c1840b1c792967/gistfile1.txt', sep='\\t')\n",
    "spot_check_5_11_2022 = pd.read_csv('https://gist.githubusercontent.com/nickmccarty/f41939563ec8402b685a1b6738e1bb0b/raw/127bbfba99ceaa73a5f489f1eeacfbc59b55564f/gistfile1.txt', sep='\\t')\n",
    "spot_check_11_17_2021 = pd.read_csv('https://gist.githubusercontent.com/nickmccarty/1bff533269b24d51f97d46f9e09f816e/raw/c841a38502937d5cfd72e65d4ca4f55677483116/gistfile1.txt', sep='\\t')\n",
    "solar_spot_check = spot_check_5_11_2022\n",
    "solar_spot_check.head()"
   ]
  },
  {
   "cell_type": "code",
   "execution_count": 12,
   "id": "fbed41f4-a26c-4cf5-a98f-de726f8e86fb",
   "metadata": {},
   "outputs": [
    {
     "data": {
      "text/plain": [
       "'06:30'"
      ]
     },
     "execution_count": 12,
     "metadata": {},
     "output_type": "execute_result"
    }
   ],
   "source": [
    "# First time on 11-4-2022 corresponding to non-zero output for `Solar (kW)`\n",
    "\n",
    "solar_spot_check[solar_spot_check['Solar (kW)'] != 0].iloc[0][0].split('T')[1][:5]"
   ]
  },
  {
   "cell_type": "code",
   "execution_count": 13,
   "id": "5929958d-b8cc-4942-b05c-e98bc76e2b5e",
   "metadata": {},
   "outputs": [
    {
     "data": {
      "text/plain": [
       "'19:00'"
      ]
     },
     "execution_count": 13,
     "metadata": {},
     "output_type": "execute_result"
    }
   ],
   "source": [
    "# Final time on 11-4-2022 corresponding to non-zero output for `Solar (kW)`\n",
    "\n",
    "solar_spot_check[solar_spot_check['Solar (kW)'] != 0].iloc[-1][0].split('T')[1][:5]"
   ]
  },
  {
   "cell_type": "code",
   "execution_count": 14,
   "id": "b21b6abe-48af-4dc7-b092-436110df0a93",
   "metadata": {},
   "outputs": [
    {
     "data": {
      "text/plain": [
       "8.75"
      ]
     },
     "execution_count": 14,
     "metadata": {},
     "output_type": "execute_result"
    }
   ],
   "source": [
    "# Tesla says the panels started collecting energy at 8:15 AM\n",
    "# and stopped at 5 PM on Nov. 4th, 2022 (8H and 45M)\n",
    "\n",
    "decimal_hr_calc(8, 45, 0)"
   ]
  },
  {
   "cell_type": "code",
   "execution_count": 15,
   "id": "2a5c6951-21ee-4e97-a707-4c9dbd99603a",
   "metadata": {},
   "outputs": [
    {
     "data": {
      "text/plain": [
       "1.94"
      ]
     },
     "execution_count": 15,
     "metadata": {},
     "output_type": "execute_result"
    }
   ],
   "source": [
    "total_daylight = df.loc['2022-11-4'][3]\n",
    "collected_daylight = decimal_hr_calc(8, 45, 0)\n",
    "\n",
    "round(total_daylight - collected_daylight, 2)\n",
    "\n",
    "# That's almost two hours per day of sunlight that wasn't\n",
    "# collected that day...I blame the surrounding mountains"
   ]
  },
  {
   "cell_type": "code",
   "execution_count": 16,
   "id": "97f592a1-e094-4936-b53d-7992e1f4025b",
   "metadata": {},
   "outputs": [],
   "source": [
    "df = sunlight_df.loc['2021-11-17' : '2022-11-17'] - 1.94\n",
    "df.to_csv('../../data/processed/sunlight_duration_in_decimal_hrs.csv')"
   ]
  },
  {
   "cell_type": "code",
   "execution_count": null,
   "id": "8ddc69f0-f50e-4e1e-ab73-6e0e6abaeb63",
   "metadata": {},
   "outputs": [],
   "source": []
  }
 ],
 "metadata": {
  "kernelspec": {
   "display_name": "Python 3 (ipykernel)",
   "language": "python",
   "name": "python3"
  },
  "language_info": {
   "codemirror_mode": {
    "name": "ipython",
    "version": 3
   },
   "file_extension": ".py",
   "mimetype": "text/x-python",
   "name": "python",
   "nbconvert_exporter": "python",
   "pygments_lexer": "ipython3",
   "version": "3.9.12"
  }
 },
 "nbformat": 4,
 "nbformat_minor": 5
}
