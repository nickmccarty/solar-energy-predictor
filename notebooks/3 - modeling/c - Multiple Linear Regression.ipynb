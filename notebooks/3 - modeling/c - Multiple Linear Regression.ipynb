{
 "cells": [
  {
   "cell_type": "code",
   "execution_count": 1,
   "id": "7b685402-f9be-4f62-bb9f-091a8d71d4be",
   "metadata": {},
   "outputs": [],
   "source": [
    "# Importing dependencies\n",
    "\n",
    "import pandas as pd\n",
    "import numpy as np\n",
    "\n",
    "from matplotlib import pyplot as plt\n",
    "import seaborn as sns\n",
    "\n",
    "from scipy import stats\n",
    "\n",
    "from sklearn.linear_model import LinearRegression\n",
    "from sklearn.metrics import r2_score\n",
    "from sklearn.metrics import mean_squared_error\n",
    "from sklearn.model_selection import train_test_split\n",
    "from sklearn import preprocessing\n",
    "from sklearn.metrics import mean_squared_error\n",
    "\n",
    "import statsmodels.api as sm\n",
    "from statsmodels.formula.api import ols\n",
    "from statsmodels.stats.outliers_influence import variance_inflation_factor as vif\n",
    "from statsmodels.stats.diagnostic import het_white\n",
    "\n",
    "from math import sqrt\n",
    "\n",
    "import warnings\n",
    "warnings.filterwarnings('ignore')"
   ]
  },
  {
   "cell_type": "code",
   "execution_count": 2,
   "id": "9e7149d5-d37b-4846-8335-256005a3c939",
   "metadata": {},
   "outputs": [
    {
     "data": {
      "text/html": [
       "<div>\n",
       "<style scoped>\n",
       "    .dataframe tbody tr th:only-of-type {\n",
       "        vertical-align: middle;\n",
       "    }\n",
       "\n",
       "    .dataframe tbody tr th {\n",
       "        vertical-align: top;\n",
       "    }\n",
       "\n",
       "    .dataframe thead th {\n",
       "        text-align: right;\n",
       "    }\n",
       "</style>\n",
       "<table border=\"1\" class=\"dataframe\">\n",
       "  <thead>\n",
       "    <tr style=\"text-align: right;\">\n",
       "      <th></th>\n",
       "      <th>Solar Energy (kWh)</th>\n",
       "      <th>Inverter 1 Energy (kWh)</th>\n",
       "      <th>Inverter 2 Energy (kWh)</th>\n",
       "      <th>Daylength in decimal hours</th>\n",
       "      <th>Billing Period Duration (Days)</th>\n",
       "      <th>Billable kWh</th>\n",
       "      <th>Power Bill Total</th>\n",
       "      <th>Tesla Bill Total</th>\n",
       "      <th>Total Cost</th>\n",
       "    </tr>\n",
       "    <tr>\n",
       "      <th>Billing Period End</th>\n",
       "      <th></th>\n",
       "      <th></th>\n",
       "      <th></th>\n",
       "      <th></th>\n",
       "      <th></th>\n",
       "      <th></th>\n",
       "      <th></th>\n",
       "      <th></th>\n",
       "      <th></th>\n",
       "    </tr>\n",
       "  </thead>\n",
       "  <tbody>\n",
       "    <tr>\n",
       "      <th>12/17/2021</th>\n",
       "      <td>590.2</td>\n",
       "      <td>282.2</td>\n",
       "      <td>307.8</td>\n",
       "      <td>251.94</td>\n",
       "      <td>30</td>\n",
       "      <td>1123</td>\n",
       "      <td>195.13</td>\n",
       "      <td>185</td>\n",
       "      <td>380.13</td>\n",
       "    </tr>\n",
       "    <tr>\n",
       "      <th>1/19/2022</th>\n",
       "      <td>366.8</td>\n",
       "      <td>77.1</td>\n",
       "      <td>289.7</td>\n",
       "      <td>266.70</td>\n",
       "      <td>32</td>\n",
       "      <td>2046</td>\n",
       "      <td>347.39</td>\n",
       "      <td>185</td>\n",
       "      <td>532.39</td>\n",
       "    </tr>\n",
       "    <tr>\n",
       "      <th>2/16/2022</th>\n",
       "      <td>738.0</td>\n",
       "      <td>355.5</td>\n",
       "      <td>382.6</td>\n",
       "      <td>244.05</td>\n",
       "      <td>27</td>\n",
       "      <td>829</td>\n",
       "      <td>146.63</td>\n",
       "      <td>185</td>\n",
       "      <td>331.63</td>\n",
       "    </tr>\n",
       "    <tr>\n",
       "      <th>3/21/2022</th>\n",
       "      <td>1280.5</td>\n",
       "      <td>608.4</td>\n",
       "      <td>672.1</td>\n",
       "      <td>320.33</td>\n",
       "      <td>32</td>\n",
       "      <td>160</td>\n",
       "      <td>36.27</td>\n",
       "      <td>185</td>\n",
       "      <td>221.27</td>\n",
       "    </tr>\n",
       "    <tr>\n",
       "      <th>4/19/2022</th>\n",
       "      <td>1323.8</td>\n",
       "      <td>641.0</td>\n",
       "      <td>682.7</td>\n",
       "      <td>312.83</td>\n",
       "      <td>28</td>\n",
       "      <td>473</td>\n",
       "      <td>87.90</td>\n",
       "      <td>185</td>\n",
       "      <td>272.90</td>\n",
       "    </tr>\n",
       "    <tr>\n",
       "      <th>5/18/2022</th>\n",
       "      <td>1511.0</td>\n",
       "      <td>736.2</td>\n",
       "      <td>775.2</td>\n",
       "      <td>339.47</td>\n",
       "      <td>28</td>\n",
       "      <td>352</td>\n",
       "      <td>61.97</td>\n",
       "      <td>185</td>\n",
       "      <td>246.97</td>\n",
       "    </tr>\n",
       "    <tr>\n",
       "      <th>6/17/2022</th>\n",
       "      <td>1546.6</td>\n",
       "      <td>752.0</td>\n",
       "      <td>794.8</td>\n",
       "      <td>369.80</td>\n",
       "      <td>29</td>\n",
       "      <td>882</td>\n",
       "      <td>133.15</td>\n",
       "      <td>185</td>\n",
       "      <td>318.15</td>\n",
       "    </tr>\n",
       "    <tr>\n",
       "      <th>7/19/2022</th>\n",
       "      <td>1594.7</td>\n",
       "      <td>775.0</td>\n",
       "      <td>819.6</td>\n",
       "      <td>395.68</td>\n",
       "      <td>31</td>\n",
       "      <td>1410</td>\n",
       "      <td>206.94</td>\n",
       "      <td>185</td>\n",
       "      <td>391.94</td>\n",
       "    </tr>\n",
       "    <tr>\n",
       "      <th>8/16/2022</th>\n",
       "      <td>1123.7</td>\n",
       "      <td>547.8</td>\n",
       "      <td>576.0</td>\n",
       "      <td>330.32</td>\n",
       "      <td>27</td>\n",
       "      <td>1448</td>\n",
       "      <td>212.25</td>\n",
       "      <td>185</td>\n",
       "      <td>397.25</td>\n",
       "    </tr>\n",
       "    <tr>\n",
       "      <th>9/19/2022</th>\n",
       "      <td>1108.3</td>\n",
       "      <td>622.9</td>\n",
       "      <td>485.2</td>\n",
       "      <td>368.61</td>\n",
       "      <td>33</td>\n",
       "      <td>1655</td>\n",
       "      <td>260.42</td>\n",
       "      <td>185</td>\n",
       "      <td>445.42</td>\n",
       "    </tr>\n",
       "    <tr>\n",
       "      <th>10/17/2022</th>\n",
       "      <td>482.5</td>\n",
       "      <td>482.5</td>\n",
       "      <td>0.0</td>\n",
       "      <td>273.81</td>\n",
       "      <td>27</td>\n",
       "      <td>657</td>\n",
       "      <td>120.82</td>\n",
       "      <td>185</td>\n",
       "      <td>305.82</td>\n",
       "    </tr>\n",
       "    <tr>\n",
       "      <th>11/17/2022</th>\n",
       "      <td>285.4</td>\n",
       "      <td>285.4</td>\n",
       "      <td>0.0</td>\n",
       "      <td>273.39</td>\n",
       "      <td>30</td>\n",
       "      <td>1115</td>\n",
       "      <td>198.85</td>\n",
       "      <td>185</td>\n",
       "      <td>383.85</td>\n",
       "    </tr>\n",
       "  </tbody>\n",
       "</table>\n",
       "</div>"
      ],
      "text/plain": [
       "                    Solar Energy (kWh)  Inverter 1 Energy (kWh)  \\\n",
       "Billing Period End                                                \n",
       "12/17/2021                       590.2                    282.2   \n",
       "1/19/2022                        366.8                     77.1   \n",
       "2/16/2022                        738.0                    355.5   \n",
       "3/21/2022                       1280.5                    608.4   \n",
       "4/19/2022                       1323.8                    641.0   \n",
       "5/18/2022                       1511.0                    736.2   \n",
       "6/17/2022                       1546.6                    752.0   \n",
       "7/19/2022                       1594.7                    775.0   \n",
       "8/16/2022                       1123.7                    547.8   \n",
       "9/19/2022                       1108.3                    622.9   \n",
       "10/17/2022                       482.5                    482.5   \n",
       "11/17/2022                       285.4                    285.4   \n",
       "\n",
       "                    Inverter 2 Energy (kWh)  Daylength in decimal hours  \\\n",
       "Billing Period End                                                        \n",
       "12/17/2021                            307.8                      251.94   \n",
       "1/19/2022                             289.7                      266.70   \n",
       "2/16/2022                             382.6                      244.05   \n",
       "3/21/2022                             672.1                      320.33   \n",
       "4/19/2022                             682.7                      312.83   \n",
       "5/18/2022                             775.2                      339.47   \n",
       "6/17/2022                             794.8                      369.80   \n",
       "7/19/2022                             819.6                      395.68   \n",
       "8/16/2022                             576.0                      330.32   \n",
       "9/19/2022                             485.2                      368.61   \n",
       "10/17/2022                              0.0                      273.81   \n",
       "11/17/2022                              0.0                      273.39   \n",
       "\n",
       "                    Billing Period Duration (Days)  Billable kWh  \\\n",
       "Billing Period End                                                 \n",
       "12/17/2021                                      30          1123   \n",
       "1/19/2022                                       32          2046   \n",
       "2/16/2022                                       27           829   \n",
       "3/21/2022                                       32           160   \n",
       "4/19/2022                                       28           473   \n",
       "5/18/2022                                       28           352   \n",
       "6/17/2022                                       29           882   \n",
       "7/19/2022                                       31          1410   \n",
       "8/16/2022                                       27          1448   \n",
       "9/19/2022                                       33          1655   \n",
       "10/17/2022                                      27           657   \n",
       "11/17/2022                                      30          1115   \n",
       "\n",
       "                    Power Bill Total  Tesla Bill Total  Total Cost  \n",
       "Billing Period End                                                  \n",
       "12/17/2021                    195.13               185      380.13  \n",
       "1/19/2022                     347.39               185      532.39  \n",
       "2/16/2022                     146.63               185      331.63  \n",
       "3/21/2022                      36.27               185      221.27  \n",
       "4/19/2022                      87.90               185      272.90  \n",
       "5/18/2022                      61.97               185      246.97  \n",
       "6/17/2022                     133.15               185      318.15  \n",
       "7/19/2022                     206.94               185      391.94  \n",
       "8/16/2022                     212.25               185      397.25  \n",
       "9/19/2022                     260.42               185      445.42  \n",
       "10/17/2022                    120.82               185      305.82  \n",
       "11/17/2022                    198.85               185      383.85  "
      ]
     },
     "execution_count": 2,
     "metadata": {},
     "output_type": "execute_result"
    }
   ],
   "source": [
    "# Reading feature set into memory and instantiating dataframe\n",
    "\n",
    "df = pd.read_csv('../../data/processed/cleaned_feature_set.csv', index_col = 0)\n",
    "df"
   ]
  },
  {
   "cell_type": "code",
   "execution_count": 3,
   "id": "17b7463a-0f78-4689-9ff6-07b2ad6979b2",
   "metadata": {},
   "outputs": [],
   "source": [
    "# Creating NaNs from 0s in `Inverter 2 Energy (kWh)` column\n",
    "# and forward-fill them with the mean for measuring error later\n",
    "\n",
    "df.replace(0, np.nan, inplace=True)\n",
    "df = df.fillna(df['Inverter 2 Energy (kWh)'].mean())"
   ]
  },
  {
   "cell_type": "code",
   "execution_count": 4,
   "id": "b5d712c3-e356-4884-89d2-c6b4cf49e87d",
   "metadata": {},
   "outputs": [
    {
     "data": {
      "text/plain": [
       "<AxesSubplot:>"
      ]
     },
     "execution_count": 4,
     "metadata": {},
     "output_type": "execute_result"
    },
    {
     "data": {
      "image/png": "[encoded data removed]",
      "text/plain": [
       "<Figure size 432x288 with 2 Axes>"
      ]
     },
     "metadata": {
      "needs_background": "light"
     },
     "output_type": "display_data"
    }
   ],
   "source": [
    "# Correlation matrix\n",
    "\n",
    "sns.set(rc = {'figure.figsize':(15,8)})\n",
    "corr = df.corr()\n",
    "mask = np.triu(corr)\n",
    "sns.heatmap(corr, cmap=\"Blues\", mask=mask)"
   ]
  },
  {
   "cell_type": "code",
   "execution_count": 5,
   "id": "e4b986b8-bf7d-4bfe-9fe4-fd9580018c46",
   "metadata": {},
   "outputs": [],
   "source": [
    "# Test set is two rows, Oct. and Nov. of 2022\n",
    "\n",
    "X_test = df[['Daylength in decimal hours', 'Billing Period Duration (Days)']][-2:]\n",
    "y_test = df['Inverter 2 Energy (kWh)'][-2:]"
   ]
  },
  {
   "cell_type": "code",
   "execution_count": 6,
   "id": "1a0d9aeb-185c-4ada-be38-e7fdd9afb9f4",
   "metadata": {},
   "outputs": [],
   "source": [
    "# Training set is first ten rows (12-2021 thru 9-2022)\n",
    "\n",
    "X_train = df[['Daylength in decimal hours', 'Billing Period Duration (Days)']][:-2]\n",
    "y_train = df['Inverter 2 Energy (kWh)'][:-2]"
   ]
  },
  {
   "cell_type": "code",
   "execution_count": 7,
   "id": "7f4a7729-60ef-4c4d-bde5-f916168bf412",
   "metadata": {},
   "outputs": [
    {
     "data": {
      "text/html": [
       "<div>\n",
       "<style scoped>\n",
       "    .dataframe tbody tr th:only-of-type {\n",
       "        vertical-align: middle;\n",
       "    }\n",
       "\n",
       "    .dataframe tbody tr th {\n",
       "        vertical-align: top;\n",
       "    }\n",
       "\n",
       "    .dataframe thead th {\n",
       "        text-align: right;\n",
       "    }\n",
       "</style>\n",
       "<table border=\"1\" class=\"dataframe\">\n",
       "  <thead>\n",
       "    <tr style=\"text-align: right;\">\n",
       "      <th></th>\n",
       "      <th>feature</th>\n",
       "      <th>weight</th>\n",
       "    </tr>\n",
       "  </thead>\n",
       "  <tbody>\n",
       "    <tr>\n",
       "      <th>0</th>\n",
       "      <td>Daylength in decimal hours</td>\n",
       "      <td>3.4591</td>\n",
       "    </tr>\n",
       "    <tr>\n",
       "      <th>1</th>\n",
       "      <td>Billing Period Duration (Days)</td>\n",
       "      <td>-33.4487</td>\n",
       "    </tr>\n",
       "  </tbody>\n",
       "</table>\n",
       "</div>"
      ],
      "text/plain": [
       "                          feature   weight\n",
       "0      Daylength in decimal hours   3.4591\n",
       "1  Billing Period Duration (Days) -33.4487"
      ]
     },
     "execution_count": 7,
     "metadata": {},
     "output_type": "execute_result"
    }
   ],
   "source": [
    "# Fitting a regressor to the training data\n",
    "\n",
    "model = LinearRegression(fit_intercept=True).fit(X_train, y_train)\n",
    "\n",
    "# Using feature weights as a proxy for feature importance\n",
    "\n",
    "weights = model.coef_\n",
    "\n",
    "feature = []\n",
    "weight = []\n",
    "\n",
    "for i, v in enumerate(weights):\n",
    "    feature.append(i)\n",
    "    weight.append(f'{v.round(4)}')\n",
    "    \n",
    "# Packaging it all up as a dataframe\n",
    "    \n",
    "df = pd.DataFrame({'feature': feature,\n",
    "                   'weight': weight}).sort_values(by='weight', ascending=False)\n",
    "\n",
    "df.feature = X_train.columns\n",
    "\n",
    "df.weight = pd.to_numeric(df.weight)\n",
    "\n",
    "df.sort_values(by='weight', ascending=False).reset_index(drop=True)"
   ]
  },
  {
   "cell_type": "code",
   "execution_count": 8,
   "id": "54a5737a-1614-425d-a7a6-d1ee98a648c6",
   "metadata": {},
   "outputs": [
    {
     "data": {
      "image/png": "[encoded data removed]",
      "text/plain": [
       "<Figure size 432x288 with 1 Axes>"
      ]
     },
     "metadata": {
      "needs_background": "light"
     },
     "output_type": "display_data"
    }
   ],
   "source": [
    "# Residuals seem reasonably close to the line\n",
    "\n",
    "y_pred = model.predict(X_test)\n",
    "\n",
    "residuals = y_test - y_pred\n",
    "\n",
    "fig = sm.graphics.qqplot(residuals, dist=stats.norm, line='45', fit=True)"
   ]
  },
  {
   "cell_type": "code",
   "execution_count": 9,
   "id": "c82843c0-981e-4505-8651-413e1033d061",
   "metadata": {},
   "outputs": [
    {
     "data": {
      "text/plain": [
       "array([509.19796447, 407.39892034])"
      ]
     },
     "execution_count": 9,
     "metadata": {},
     "output_type": "execute_result"
    }
   ],
   "source": [
    "# Predicted energy generated by inverter 2 for the months\n",
    "# it was malfunctioning passes the sniff test\n",
    "\n",
    "y_pred"
   ]
  },
  {
   "cell_type": "code",
   "execution_count": 10,
   "id": "720f17ca-df5a-4c42-afd1-7df6fa1a6abc",
   "metadata": {},
   "outputs": [],
   "source": [
    "# Calculating RMSE\n",
    "\n",
    "rmse = sqrt(mean_squared_error(y_test, y_pred))"
   ]
  },
  {
   "cell_type": "code",
   "execution_count": 11,
   "id": "7b544d53-8f54-4b81-bb8c-5b9134af6ca7",
   "metadata": {},
   "outputs": [
    {
     "data": {
      "text/plain": [
       "130.59865586404544"
      ]
     },
     "execution_count": 11,
     "metadata": {},
     "output_type": "execute_result"
    }
   ],
   "source": [
    "# This suggests that the model is predicting within\n",
    "# 130 kWh for the month based on the mean that was calculated earlier\n",
    "\n",
    "rmse"
   ]
  }
 ],
 "metadata": {
  "kernelspec": {
   "display_name": "Python 3 (ipykernel)",
   "language": "python",
   "name": "python3"
  },
  "language_info": {
   "codemirror_mode": {
    "name": "ipython",
    "version": 3
   },
   "file_extension": ".py",
   "mimetype": "text/x-python",
   "name": "python",
   "nbconvert_exporter": "python",
   "pygments_lexer": "ipython3",
   "version": "3.9.12"
  }
 },
 "nbformat": 4,
 "nbformat_minor": 5
}
