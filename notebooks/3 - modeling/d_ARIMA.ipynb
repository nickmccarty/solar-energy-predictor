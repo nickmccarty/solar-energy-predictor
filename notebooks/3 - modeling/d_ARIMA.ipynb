{
  "cells": [
    {
      "cell_type": "code",
      "execution_count": 1,
      "id": "0ec532f6-898e-4af6-8f32-28bdfb96666a",
      "metadata": {
        "id": "0ec532f6-898e-4af6-8f32-28bdfb96666a"
      },
      "outputs": [],
      "source": [
        "# Importing dependencies\n",
        "\n",
        "import pandas as pd\n",
        "import numpy as np\n",
        "import matplotlib.pyplot as plt\n",
        "import seaborn as sns\n",
        "\n",
        "from statsmodels.tsa.arima.model import ARIMA\n",
        "\n",
        "from math import sqrt\n",
        "from sklearn.metrics import mean_squared_error\n",
        "\n",
        "from statsmodels.graphics.tsaplots import plot_acf\n",
        "\n",
        "from statsmodels.tsa.stattools import adfuller\n",
        "\n",
        "import warnings\n",
        "warnings.filterwarnings('ignore')"
      ]
    },
    {
      "cell_type": "code",
      "execution_count": 2,
      "id": "959a43ab-e346-4d72-a416-a551af10de4b",
      "metadata": {
        "colab": {
          "base_uri": "https://localhost:8080/",
          "height": 536
        },
        "id": "959a43ab-e346-4d72-a416-a551af10de4b",
        "outputId": "20cbad59-a0e5-4268-9c83-c4dfc1d9156e"
      },
      "outputs": [
        {
          "output_type": "execute_result",
          "data": {
            "text/plain": [
              "                    Solar Energy (kWh)  Inverter 1 Energy (kWh)  \\\n",
              "Billing Period End                                                \n",
              "12/17/2021                       590.2                    282.2   \n",
              "1/19/2022                        366.8                     77.1   \n",
              "2/16/2022                        738.0                    355.5   \n",
              "3/21/2022                       1280.5                    608.4   \n",
              "4/19/2022                       1323.8                    641.0   \n",
              "5/18/2022                       1511.0                    736.2   \n",
              "6/17/2022                       1546.6                    752.0   \n",
              "7/19/2022                       1594.7                    775.0   \n",
              "8/16/2022                       1123.7                    547.8   \n",
              "9/19/2022                       1108.3                    622.9   \n",
              "10/17/2022                       482.5                    482.5   \n",
              "11/17/2022                       285.4                    285.4   \n",
              "\n",
              "                    Inverter 2 Energy (kWh)  Daylength in decimal hours  \\\n",
              "Billing Period End                                                        \n",
              "12/17/2021                            307.8                      251.94   \n",
              "1/19/2022                             289.7                      266.70   \n",
              "2/16/2022                             382.6                      244.05   \n",
              "3/21/2022                             672.1                      320.33   \n",
              "4/19/2022                             682.7                      312.83   \n",
              "5/18/2022                             775.2                      339.47   \n",
              "6/17/2022                             794.8                      369.80   \n",
              "7/19/2022                             819.6                      395.68   \n",
              "8/16/2022                             576.0                      330.32   \n",
              "9/19/2022                             485.2                      368.61   \n",
              "10/17/2022                              0.0                      273.81   \n",
              "11/17/2022                              0.0                      273.39   \n",
              "\n",
              "                    Billing Period Duration (Days)  Billable kWh  \\\n",
              "Billing Period End                                                 \n",
              "12/17/2021                                      30          1123   \n",
              "1/19/2022                                       32          2046   \n",
              "2/16/2022                                       27           829   \n",
              "3/21/2022                                       32           160   \n",
              "4/19/2022                                       28           473   \n",
              "5/18/2022                                       28           352   \n",
              "6/17/2022                                       29           882   \n",
              "7/19/2022                                       31          1410   \n",
              "8/16/2022                                       27          1448   \n",
              "9/19/2022                                       33          1655   \n",
              "10/17/2022                                      27           657   \n",
              "11/17/2022                                      30          1115   \n",
              "\n",
              "                    Power Bill Total  Tesla Bill Total  Total Cost  \n",
              "Billing Period End                                                  \n",
              "12/17/2021                    195.13               185      380.13  \n",
              "1/19/2022                     347.39               185      532.39  \n",
              "2/16/2022                     146.63               185      331.63  \n",
              "3/21/2022                      36.27               185      221.27  \n",
              "4/19/2022                      87.90               185      272.90  \n",
              "5/18/2022                      61.97               185      246.97  \n",
              "6/17/2022                     133.15               185      318.15  \n",
              "7/19/2022                     206.94               185      391.94  \n",
              "8/16/2022                     212.25               185      397.25  \n",
              "9/19/2022                     260.42               185      445.42  \n",
              "10/17/2022                    120.82               185      305.82  \n",
              "11/17/2022                    198.85               185      383.85  "
            ],
            "text/html": [
              "\n",
              "  <div id=\"df-2649c59a-bcfd-4037-9227-ebee4eee52b4\">\n",
              "    <div class=\"colab-df-container\">\n",
              "      <div>\n",
              "<style scoped>\n",
              "    .dataframe tbody tr th:only-of-type {\n",
              "        vertical-align: middle;\n",
              "    }\n",
              "\n",
              "    .dataframe tbody tr th {\n",
              "        vertical-align: top;\n",
              "    }\n",
              "\n",
              "    .dataframe thead th {\n",
              "        text-align: right;\n",
              "    }\n",
              "</style>\n",
              "<table border=\"1\" class=\"dataframe\">\n",
              "  <thead>\n",
              "    <tr style=\"text-align: right;\">\n",
              "      <th></th>\n",
              "      <th>Solar Energy (kWh)</th>\n",
              "      <th>Inverter 1 Energy (kWh)</th>\n",
              "      <th>Inverter 2 Energy (kWh)</th>\n",
              "      <th>Daylength in decimal hours</th>\n",
              "      <th>Billing Period Duration (Days)</th>\n",
              "      <th>Billable kWh</th>\n",
              "      <th>Power Bill Total</th>\n",
              "      <th>Tesla Bill Total</th>\n",
              "      <th>Total Cost</th>\n",
              "    </tr>\n",
              "    <tr>\n",
              "      <th>Billing Period End</th>\n",
              "      <th></th>\n",
              "      <th></th>\n",
              "      <th></th>\n",
              "      <th></th>\n",
              "      <th></th>\n",
              "      <th></th>\n",
              "      <th></th>\n",
              "      <th></th>\n",
              "      <th></th>\n",
              "    </tr>\n",
              "  </thead>\n",
              "  <tbody>\n",
              "    <tr>\n",
              "      <th>12/17/2021</th>\n",
              "      <td>590.2</td>\n",
              "      <td>282.2</td>\n",
              "      <td>307.8</td>\n",
              "      <td>251.94</td>\n",
              "      <td>30</td>\n",
              "      <td>1123</td>\n",
              "      <td>195.13</td>\n",
              "      <td>185</td>\n",
              "      <td>380.13</td>\n",
              "    </tr>\n",
              "    <tr>\n",
              "      <th>1/19/2022</th>\n",
              "      <td>366.8</td>\n",
              "      <td>77.1</td>\n",
              "      <td>289.7</td>\n",
              "      <td>266.70</td>\n",
              "      <td>32</td>\n",
              "      <td>2046</td>\n",
              "      <td>347.39</td>\n",
              "      <td>185</td>\n",
              "      <td>532.39</td>\n",
              "    </tr>\n",
              "    <tr>\n",
              "      <th>2/16/2022</th>\n",
              "      <td>738.0</td>\n",
              "      <td>355.5</td>\n",
              "      <td>382.6</td>\n",
              "      <td>244.05</td>\n",
              "      <td>27</td>\n",
              "      <td>829</td>\n",
              "      <td>146.63</td>\n",
              "      <td>185</td>\n",
              "      <td>331.63</td>\n",
              "    </tr>\n",
              "    <tr>\n",
              "      <th>3/21/2022</th>\n",
              "      <td>1280.5</td>\n",
              "      <td>608.4</td>\n",
              "      <td>672.1</td>\n",
              "      <td>320.33</td>\n",
              "      <td>32</td>\n",
              "      <td>160</td>\n",
              "      <td>36.27</td>\n",
              "      <td>185</td>\n",
              "      <td>221.27</td>\n",
              "    </tr>\n",
              "    <tr>\n",
              "      <th>4/19/2022</th>\n",
              "      <td>1323.8</td>\n",
              "      <td>641.0</td>\n",
              "      <td>682.7</td>\n",
              "      <td>312.83</td>\n",
              "      <td>28</td>\n",
              "      <td>473</td>\n",
              "      <td>87.90</td>\n",
              "      <td>185</td>\n",
              "      <td>272.90</td>\n",
              "    </tr>\n",
              "    <tr>\n",
              "      <th>5/18/2022</th>\n",
              "      <td>1511.0</td>\n",
              "      <td>736.2</td>\n",
              "      <td>775.2</td>\n",
              "      <td>339.47</td>\n",
              "      <td>28</td>\n",
              "      <td>352</td>\n",
              "      <td>61.97</td>\n",
              "      <td>185</td>\n",
              "      <td>246.97</td>\n",
              "    </tr>\n",
              "    <tr>\n",
              "      <th>6/17/2022</th>\n",
              "      <td>1546.6</td>\n",
              "      <td>752.0</td>\n",
              "      <td>794.8</td>\n",
              "      <td>369.80</td>\n",
              "      <td>29</td>\n",
              "      <td>882</td>\n",
              "      <td>133.15</td>\n",
              "      <td>185</td>\n",
              "      <td>318.15</td>\n",
              "    </tr>\n",
              "    <tr>\n",
              "      <th>7/19/2022</th>\n",
              "      <td>1594.7</td>\n",
              "      <td>775.0</td>\n",
              "      <td>819.6</td>\n",
              "      <td>395.68</td>\n",
              "      <td>31</td>\n",
              "      <td>1410</td>\n",
              "      <td>206.94</td>\n",
              "      <td>185</td>\n",
              "      <td>391.94</td>\n",
              "    </tr>\n",
              "    <tr>\n",
              "      <th>8/16/2022</th>\n",
              "      <td>1123.7</td>\n",
              "      <td>547.8</td>\n",
              "      <td>576.0</td>\n",
              "      <td>330.32</td>\n",
              "      <td>27</td>\n",
              "      <td>1448</td>\n",
              "      <td>212.25</td>\n",
              "      <td>185</td>\n",
              "      <td>397.25</td>\n",
              "    </tr>\n",
              "    <tr>\n",
              "      <th>9/19/2022</th>\n",
              "      <td>1108.3</td>\n",
              "      <td>622.9</td>\n",
              "      <td>485.2</td>\n",
              "      <td>368.61</td>\n",
              "      <td>33</td>\n",
              "      <td>1655</td>\n",
              "      <td>260.42</td>\n",
              "      <td>185</td>\n",
              "      <td>445.42</td>\n",
              "    </tr>\n",
              "    <tr>\n",
              "      <th>10/17/2022</th>\n",
              "      <td>482.5</td>\n",
              "      <td>482.5</td>\n",
              "      <td>0.0</td>\n",
              "      <td>273.81</td>\n",
              "      <td>27</td>\n",
              "      <td>657</td>\n",
              "      <td>120.82</td>\n",
              "      <td>185</td>\n",
              "      <td>305.82</td>\n",
              "    </tr>\n",
              "    <tr>\n",
              "      <th>11/17/2022</th>\n",
              "      <td>285.4</td>\n",
              "      <td>285.4</td>\n",
              "      <td>0.0</td>\n",
              "      <td>273.39</td>\n",
              "      <td>30</td>\n",
              "      <td>1115</td>\n",
              "      <td>198.85</td>\n",
              "      <td>185</td>\n",
              "      <td>383.85</td>\n",
              "    </tr>\n",
              "  </tbody>\n",
              "</table>\n",
              "</div>\n",
              "      <button class=\"colab-df-convert\" onclick=\"convertToInteractive('df-2649c59a-bcfd-4037-9227-ebee4eee52b4')\"\n",
              "              title=\"Convert this dataframe to an interactive table.\"\n",
              "              style=\"display:none;\">\n",
              "        \n",
              "  <svg xmlns=\"http://www.w3.org/2000/svg\" height=\"24px\"viewBox=\"0 0 24 24\"\n",
              "       width=\"24px\">\n",
              "    <path d=\"M0 0h24v24H0V0z\" fill=\"none\"/>\n",
              "    <path d=\"M18.56 5.44l.94 2.06.94-2.06 2.06-.94-2.06-.94-.94-2.06-.94 2.06-2.06.94zm-11 1L8.5 8.5l.94-2.06 2.06-.94-2.06-.94L8.5 2.5l-.94 2.06-2.06.94zm10 10l.94 2.06.94-2.06 2.06-.94-2.06-.94-.94-2.06-.94 2.06-2.06.94z\"/><path d=\"M17.41 7.96l-1.37-1.37c-.4-.4-.92-.59-1.43-.59-.52 0-1.04.2-1.43.59L10.3 9.45l-7.72 7.72c-.78.78-.78 2.05 0 2.83L4 21.41c.39.39.9.59 1.41.59.51 0 1.02-.2 1.41-.59l7.78-7.78 2.81-2.81c.8-.78.8-2.07 0-2.86zM5.41 20L4 18.59l7.72-7.72 1.47 1.35L5.41 20z\"/>\n",
              "  </svg>\n",
              "      </button>\n",
              "      \n",
              "  <style>\n",
              "    .colab-df-container {\n",
              "      display:flex;\n",
              "      flex-wrap:wrap;\n",
              "      gap: 12px;\n",
              "    }\n",
              "\n",
              "    .colab-df-convert {\n",
              "      background-color: #E8F0FE;\n",
              "      border: none;\n",
              "      border-radius: 50%;\n",
              "      cursor: pointer;\n",
              "      display: none;\n",
              "      fill: #1967D2;\n",
              "      height: 32px;\n",
              "      padding: 0 0 0 0;\n",
              "      width: 32px;\n",
              "    }\n",
              "\n",
              "    .colab-df-convert:hover {\n",
              "      background-color: #E2EBFA;\n",
              "      box-shadow: 0px 1px 2px rgba(60, 64, 67, 0.3), 0px 1px 3px 1px rgba(60, 64, 67, 0.15);\n",
              "      fill: #174EA6;\n",
              "    }\n",
              "\n",
              "    [theme=dark] .colab-df-convert {\n",
              "      background-color: #3B4455;\n",
              "      fill: #D2E3FC;\n",
              "    }\n",
              "\n",
              "    [theme=dark] .colab-df-convert:hover {\n",
              "      background-color: #434B5C;\n",
              "      box-shadow: 0px 1px 3px 1px rgba(0, 0, 0, 0.15);\n",
              "      filter: drop-shadow(0px 1px 2px rgba(0, 0, 0, 0.3));\n",
              "      fill: #FFFFFF;\n",
              "    }\n",
              "  </style>\n",
              "\n",
              "      <script>\n",
              "        const buttonEl =\n",
              "          document.querySelector('#df-2649c59a-bcfd-4037-9227-ebee4eee52b4 button.colab-df-convert');\n",
              "        buttonEl.style.display =\n",
              "          google.colab.kernel.accessAllowed ? 'block' : 'none';\n",
              "\n",
              "        async function convertToInteractive(key) {\n",
              "          const element = document.querySelector('#df-2649c59a-bcfd-4037-9227-ebee4eee52b4');\n",
              "          const dataTable =\n",
              "            await google.colab.kernel.invokeFunction('convertToInteractive',\n",
              "                                                     [key], {});\n",
              "          if (!dataTable) return;\n",
              "\n",
              "          const docLinkHtml = 'Like what you see? Visit the ' +\n",
              "            '<a target=\"_blank\" href=https://colab.research.google.com/notebooks/data_table.ipynb>data table notebook</a>'\n",
              "            + ' to learn more about interactive tables.';\n",
              "          element.innerHTML = '';\n",
              "          dataTable['output_type'] = 'display_data';\n",
              "          await google.colab.output.renderOutput(dataTable, element);\n",
              "          const docLink = document.createElement('div');\n",
              "          docLink.innerHTML = docLinkHtml;\n",
              "          element.appendChild(docLink);\n",
              "        }\n",
              "      </script>\n",
              "    </div>\n",
              "  </div>\n",
              "  "
            ]
          },
          "metadata": {},
          "execution_count": 2
        }
      ],
      "source": [
        "# Reading feature set into memory and instantiating dataframe\n",
        "\n",
        "df = pd.read_csv('cleaned_feature_set.csv', index_col = 0)\n",
        "df"
      ]
    },
    {
      "cell_type": "code",
      "execution_count": 3,
      "id": "fb09f445-677b-4d4f-bb32-ae8dd1d7786d",
      "metadata": {
        "id": "fb09f445-677b-4d4f-bb32-ae8dd1d7786d"
      },
      "outputs": [],
      "source": [
        "# Creating NaNs from 0s in `Inverter 2 Energy (kWh)` column\n",
        "# and forward-fill them with the mean for measuring error later\n",
        "\n",
        "df.replace(0, np.nan, inplace=True)\n",
        "df = df.fillna(df['Inverter 2 Energy (kWh)'].mean())"
      ]
    },
    {
      "cell_type": "code",
      "execution_count": 4,
      "id": "57f01cad-0cb4-4479-8126-7b5ff7b514c3",
      "metadata": {
        "colab": {
          "base_uri": "https://localhost:8080/",
          "height": 394
        },
        "id": "57f01cad-0cb4-4479-8126-7b5ff7b514c3",
        "outputId": "b7fbc55b-559a-4f17-c783-79f5f1a7e8b6"
      },
      "outputs": [
        {
          "output_type": "execute_result",
          "data": {
            "text/plain": [
              "                    Inverter 2 Energy (kWh)\n",
              "Billing Period End                         \n",
              "12/17/2021                            307.8\n",
              "1/19/2022                             289.7\n",
              "2/16/2022                             382.6\n",
              "3/21/2022                             672.1\n",
              "4/19/2022                             682.7\n",
              "5/18/2022                             775.2\n",
              "6/17/2022                             794.8\n",
              "7/19/2022                             819.6\n",
              "8/16/2022                             576.0\n",
              "9/19/2022                             485.2"
            ],
            "text/html": [
              "\n",
              "  <div id=\"df-6fa7d1fa-3dce-4e2d-b2d0-803d1282f202\">\n",
              "    <div class=\"colab-df-container\">\n",
              "      <div>\n",
              "<style scoped>\n",
              "    .dataframe tbody tr th:only-of-type {\n",
              "        vertical-align: middle;\n",
              "    }\n",
              "\n",
              "    .dataframe tbody tr th {\n",
              "        vertical-align: top;\n",
              "    }\n",
              "\n",
              "    .dataframe thead th {\n",
              "        text-align: right;\n",
              "    }\n",
              "</style>\n",
              "<table border=\"1\" class=\"dataframe\">\n",
              "  <thead>\n",
              "    <tr style=\"text-align: right;\">\n",
              "      <th></th>\n",
              "      <th>Inverter 2 Energy (kWh)</th>\n",
              "    </tr>\n",
              "    <tr>\n",
              "      <th>Billing Period End</th>\n",
              "      <th></th>\n",
              "    </tr>\n",
              "  </thead>\n",
              "  <tbody>\n",
              "    <tr>\n",
              "      <th>12/17/2021</th>\n",
              "      <td>307.8</td>\n",
              "    </tr>\n",
              "    <tr>\n",
              "      <th>1/19/2022</th>\n",
              "      <td>289.7</td>\n",
              "    </tr>\n",
              "    <tr>\n",
              "      <th>2/16/2022</th>\n",
              "      <td>382.6</td>\n",
              "    </tr>\n",
              "    <tr>\n",
              "      <th>3/21/2022</th>\n",
              "      <td>672.1</td>\n",
              "    </tr>\n",
              "    <tr>\n",
              "      <th>4/19/2022</th>\n",
              "      <td>682.7</td>\n",
              "    </tr>\n",
              "    <tr>\n",
              "      <th>5/18/2022</th>\n",
              "      <td>775.2</td>\n",
              "    </tr>\n",
              "    <tr>\n",
              "      <th>6/17/2022</th>\n",
              "      <td>794.8</td>\n",
              "    </tr>\n",
              "    <tr>\n",
              "      <th>7/19/2022</th>\n",
              "      <td>819.6</td>\n",
              "    </tr>\n",
              "    <tr>\n",
              "      <th>8/16/2022</th>\n",
              "      <td>576.0</td>\n",
              "    </tr>\n",
              "    <tr>\n",
              "      <th>9/19/2022</th>\n",
              "      <td>485.2</td>\n",
              "    </tr>\n",
              "  </tbody>\n",
              "</table>\n",
              "</div>\n",
              "      <button class=\"colab-df-convert\" onclick=\"convertToInteractive('df-6fa7d1fa-3dce-4e2d-b2d0-803d1282f202')\"\n",
              "              title=\"Convert this dataframe to an interactive table.\"\n",
              "              style=\"display:none;\">\n",
              "        \n",
              "  <svg xmlns=\"http://www.w3.org/2000/svg\" height=\"24px\"viewBox=\"0 0 24 24\"\n",
              "       width=\"24px\">\n",
              "    <path d=\"M0 0h24v24H0V0z\" fill=\"none\"/>\n",
              "    <path d=\"M18.56 5.44l.94 2.06.94-2.06 2.06-.94-2.06-.94-.94-2.06-.94 2.06-2.06.94zm-11 1L8.5 8.5l.94-2.06 2.06-.94-2.06-.94L8.5 2.5l-.94 2.06-2.06.94zm10 10l.94 2.06.94-2.06 2.06-.94-2.06-.94-.94-2.06-.94 2.06-2.06.94z\"/><path d=\"M17.41 7.96l-1.37-1.37c-.4-.4-.92-.59-1.43-.59-.52 0-1.04.2-1.43.59L10.3 9.45l-7.72 7.72c-.78.78-.78 2.05 0 2.83L4 21.41c.39.39.9.59 1.41.59.51 0 1.02-.2 1.41-.59l7.78-7.78 2.81-2.81c.8-.78.8-2.07 0-2.86zM5.41 20L4 18.59l7.72-7.72 1.47 1.35L5.41 20z\"/>\n",
              "  </svg>\n",
              "      </button>\n",
              "      \n",
              "  <style>\n",
              "    .colab-df-container {\n",
              "      display:flex;\n",
              "      flex-wrap:wrap;\n",
              "      gap: 12px;\n",
              "    }\n",
              "\n",
              "    .colab-df-convert {\n",
              "      background-color: #E8F0FE;\n",
              "      border: none;\n",
              "      border-radius: 50%;\n",
              "      cursor: pointer;\n",
              "      display: none;\n",
              "      fill: #1967D2;\n",
              "      height: 32px;\n",
              "      padding: 0 0 0 0;\n",
              "      width: 32px;\n",
              "    }\n",
              "\n",
              "    .colab-df-convert:hover {\n",
              "      background-color: #E2EBFA;\n",
              "      box-shadow: 0px 1px 2px rgba(60, 64, 67, 0.3), 0px 1px 3px 1px rgba(60, 64, 67, 0.15);\n",
              "      fill: #174EA6;\n",
              "    }\n",
              "\n",
              "    [theme=dark] .colab-df-convert {\n",
              "      background-color: #3B4455;\n",
              "      fill: #D2E3FC;\n",
              "    }\n",
              "\n",
              "    [theme=dark] .colab-df-convert:hover {\n",
              "      background-color: #434B5C;\n",
              "      box-shadow: 0px 1px 3px 1px rgba(0, 0, 0, 0.15);\n",
              "      filter: drop-shadow(0px 1px 2px rgba(0, 0, 0, 0.3));\n",
              "      fill: #FFFFFF;\n",
              "    }\n",
              "  </style>\n",
              "\n",
              "      <script>\n",
              "        const buttonEl =\n",
              "          document.querySelector('#df-6fa7d1fa-3dce-4e2d-b2d0-803d1282f202 button.colab-df-convert');\n",
              "        buttonEl.style.display =\n",
              "          google.colab.kernel.accessAllowed ? 'block' : 'none';\n",
              "\n",
              "        async function convertToInteractive(key) {\n",
              "          const element = document.querySelector('#df-6fa7d1fa-3dce-4e2d-b2d0-803d1282f202');\n",
              "          const dataTable =\n",
              "            await google.colab.kernel.invokeFunction('convertToInteractive',\n",
              "                                                     [key], {});\n",
              "          if (!dataTable) return;\n",
              "\n",
              "          const docLinkHtml = 'Like what you see? Visit the ' +\n",
              "            '<a target=\"_blank\" href=https://colab.research.google.com/notebooks/data_table.ipynb>data table notebook</a>'\n",
              "            + ' to learn more about interactive tables.';\n",
              "          element.innerHTML = '';\n",
              "          dataTable['output_type'] = 'display_data';\n",
              "          await google.colab.output.renderOutput(dataTable, element);\n",
              "          const docLink = document.createElement('div');\n",
              "          docLink.innerHTML = docLinkHtml;\n",
              "          element.appendChild(docLink);\n",
              "        }\n",
              "      </script>\n",
              "    </div>\n",
              "  </div>\n",
              "  "
            ]
          },
          "metadata": {},
          "execution_count": 4
        }
      ],
      "source": [
        "# Our training set\n",
        "\n",
        "df[['Inverter 2 Energy (kWh)']].loc[:'9/19/2022']"
      ]
    },
    {
      "cell_type": "code",
      "execution_count": 5,
      "id": "7cd320d6-a177-476c-80d6-4e42916d3f3b",
      "metadata": {
        "colab": {
          "base_uri": "https://localhost:8080/"
        },
        "id": "7cd320d6-a177-476c-80d6-4e42916d3f3b",
        "outputId": "4224c1c9-433b-4f2a-e240-19dceefaf033"
      },
      "outputs": [
        {
          "output_type": "stream",
          "name": "stdout",
          "text": [
            "                                  SARIMAX Results                                  \n",
            "===================================================================================\n",
            "Dep. Variable:     Inverter 2 Energy (kWh)   No. Observations:                   10\n",
            "Model:                      ARIMA(1, 1, 1)   Log Likelihood                 -56.722\n",
            "Date:                     Fri, 03 Feb 2023   AIC                            119.444\n",
            "Time:                             21:33:44   BIC                            120.035\n",
            "Sample:                                  0   HQIC                           118.167\n",
            "                                      - 10                                         \n",
            "Covariance Type:                       opg                                         \n",
            "==============================================================================\n",
            "                 coef    std err          z      P>|z|      [0.025      0.975]\n",
            "------------------------------------------------------------------------------\n",
            "ar.L1          0.3952      2.658      0.149      0.882      -4.815       5.605\n",
            "ma.L1         -0.1366      2.908     -0.047      0.963      -5.835       5.562\n",
            "sigma2       1.73e+04   1.01e+04      1.721      0.085   -2401.499     3.7e+04\n",
            "===================================================================================\n",
            "Ljung-Box (L1) (Q):                   0.00   Jarque-Bera (JB):                 0.06\n",
            "Prob(Q):                              0.96   Prob(JB):                         0.97\n",
            "Heteroskedasticity (H):               0.80   Skew:                            -0.02\n",
            "Prob(H) (two-sided):                  0.86   Kurtosis:                         3.41\n",
            "===================================================================================\n",
            "\n",
            "Warnings:\n",
            "[1] Covariance matrix calculated using the outer product of gradients (complex-step).\n"
          ]
        }
      ],
      "source": [
        "# Fitting an auto-regressive integrated moving average (ARIMA) model\n",
        "# to the training data to make predictions\n",
        "\n",
        "model = ARIMA(df[['Inverter 2 Energy (kWh)']].loc[:'9/19/2022'],\n",
        "              order=(1,1,1))\n",
        "              # seasonal_order=(1, 1, 0, 12),\n",
        "              # enforce_invertibility=False)\n",
        "\n",
        "model_fit = model.fit()\n",
        "\n",
        "# Model summary\n",
        "\n",
        "print(model_fit.summary())"
      ]
    },
    {
      "cell_type": "code",
      "execution_count": 6,
      "id": "9d453723-1040-4f6f-83c9-759d982b21f6",
      "metadata": {
        "colab": {
          "base_uri": "https://localhost:8080/",
          "height": 320
        },
        "id": "9d453723-1040-4f6f-83c9-759d982b21f6",
        "outputId": "6869a651-b6c0-414c-c8e3-f2210b10a15b"
      },
      "outputs": [
        {
          "output_type": "display_data",
          "data": {
            "text/plain": [
              "<Figure size 432x288 with 1 Axes>"
            ],
            "image/png": "[encoded data removed]"
          },
          "metadata": {
            "needs_background": "light"
          }
        }
      ],
      "source": [
        "# Making and plotting forecast\n",
        "\n",
        "forecast = model_fit.forecast(2)\n",
        "\n",
        "future_months = ['10-17-2022', '11-17-2022']\n",
        "\n",
        "forecast_df = pd.DataFrame({'Billing Period Ending': future_months,\n",
        "                            'Predicted kWh': forecast})\n",
        "\n",
        "plt.ylabel('Predicted kWh')\n",
        "plt.xticks(rotation = 45)\n",
        "plt.title('Predicted kWh for Inverter 2')\n",
        "\n",
        "plt.plot(future_months, forecast)\n",
        "\n",
        "plt.show()"
      ]
    },
    {
      "cell_type": "code",
      "execution_count": 7,
      "id": "59248407-05a3-4fee-bc43-077883d1e86c",
      "metadata": {
        "colab": {
          "base_uri": "https://localhost:8080/",
          "height": 112
        },
        "id": "59248407-05a3-4fee-bc43-077883d1e86c",
        "outputId": "0d6cd69a-3c6b-48ab-bf0b-13cbe844ffb6"
      },
      "outputs": [
        {
          "output_type": "execute_result",
          "data": {
            "text/plain": [
              "   Billing Period Ending  Predicted kWh\n",
              "10            10-17-2022     453.261636\n",
              "11            11-17-2022     440.641025"
            ],
            "text/html": [
              "\n",
              "  <div id=\"df-d69d632b-4420-4322-ae13-ece027b3bf62\">\n",
              "    <div class=\"colab-df-container\">\n",
              "      <div>\n",
              "<style scoped>\n",
              "    .dataframe tbody tr th:only-of-type {\n",
              "        vertical-align: middle;\n",
              "    }\n",
              "\n",
              "    .dataframe tbody tr th {\n",
              "        vertical-align: top;\n",
              "    }\n",
              "\n",
              "    .dataframe thead th {\n",
              "        text-align: right;\n",
              "    }\n",
              "</style>\n",
              "<table border=\"1\" class=\"dataframe\">\n",
              "  <thead>\n",
              "    <tr style=\"text-align: right;\">\n",
              "      <th></th>\n",
              "      <th>Billing Period Ending</th>\n",
              "      <th>Predicted kWh</th>\n",
              "    </tr>\n",
              "  </thead>\n",
              "  <tbody>\n",
              "    <tr>\n",
              "      <th>10</th>\n",
              "      <td>10-17-2022</td>\n",
              "      <td>453.261636</td>\n",
              "    </tr>\n",
              "    <tr>\n",
              "      <th>11</th>\n",
              "      <td>11-17-2022</td>\n",
              "      <td>440.641025</td>\n",
              "    </tr>\n",
              "  </tbody>\n",
              "</table>\n",
              "</div>\n",
              "      <button class=\"colab-df-convert\" onclick=\"convertToInteractive('df-d69d632b-4420-4322-ae13-ece027b3bf62')\"\n",
              "              title=\"Convert this dataframe to an interactive table.\"\n",
              "              style=\"display:none;\">\n",
              "        \n",
              "  <svg xmlns=\"http://www.w3.org/2000/svg\" height=\"24px\"viewBox=\"0 0 24 24\"\n",
              "       width=\"24px\">\n",
              "    <path d=\"M0 0h24v24H0V0z\" fill=\"none\"/>\n",
              "    <path d=\"M18.56 5.44l.94 2.06.94-2.06 2.06-.94-2.06-.94-.94-2.06-.94 2.06-2.06.94zm-11 1L8.5 8.5l.94-2.06 2.06-.94-2.06-.94L8.5 2.5l-.94 2.06-2.06.94zm10 10l.94 2.06.94-2.06 2.06-.94-2.06-.94-.94-2.06-.94 2.06-2.06.94z\"/><path d=\"M17.41 7.96l-1.37-1.37c-.4-.4-.92-.59-1.43-.59-.52 0-1.04.2-1.43.59L10.3 9.45l-7.72 7.72c-.78.78-.78 2.05 0 2.83L4 21.41c.39.39.9.59 1.41.59.51 0 1.02-.2 1.41-.59l7.78-7.78 2.81-2.81c.8-.78.8-2.07 0-2.86zM5.41 20L4 18.59l7.72-7.72 1.47 1.35L5.41 20z\"/>\n",
              "  </svg>\n",
              "      </button>\n",
              "      \n",
              "  <style>\n",
              "    .colab-df-container {\n",
              "      display:flex;\n",
              "      flex-wrap:wrap;\n",
              "      gap: 12px;\n",
              "    }\n",
              "\n",
              "    .colab-df-convert {\n",
              "      background-color: #E8F0FE;\n",
              "      border: none;\n",
              "      border-radius: 50%;\n",
              "      cursor: pointer;\n",
              "      display: none;\n",
              "      fill: #1967D2;\n",
              "      height: 32px;\n",
              "      padding: 0 0 0 0;\n",
              "      width: 32px;\n",
              "    }\n",
              "\n",
              "    .colab-df-convert:hover {\n",
              "      background-color: #E2EBFA;\n",
              "      box-shadow: 0px 1px 2px rgba(60, 64, 67, 0.3), 0px 1px 3px 1px rgba(60, 64, 67, 0.15);\n",
              "      fill: #174EA6;\n",
              "    }\n",
              "\n",
              "    [theme=dark] .colab-df-convert {\n",
              "      background-color: #3B4455;\n",
              "      fill: #D2E3FC;\n",
              "    }\n",
              "\n",
              "    [theme=dark] .colab-df-convert:hover {\n",
              "      background-color: #434B5C;\n",
              "      box-shadow: 0px 1px 3px 1px rgba(0, 0, 0, 0.15);\n",
              "      filter: drop-shadow(0px 1px 2px rgba(0, 0, 0, 0.3));\n",
              "      fill: #FFFFFF;\n",
              "    }\n",
              "  </style>\n",
              "\n",
              "      <script>\n",
              "        const buttonEl =\n",
              "          document.querySelector('#df-d69d632b-4420-4322-ae13-ece027b3bf62 button.colab-df-convert');\n",
              "        buttonEl.style.display =\n",
              "          google.colab.kernel.accessAllowed ? 'block' : 'none';\n",
              "\n",
              "        async function convertToInteractive(key) {\n",
              "          const element = document.querySelector('#df-d69d632b-4420-4322-ae13-ece027b3bf62');\n",
              "          const dataTable =\n",
              "            await google.colab.kernel.invokeFunction('convertToInteractive',\n",
              "                                                     [key], {});\n",
              "          if (!dataTable) return;\n",
              "\n",
              "          const docLinkHtml = 'Like what you see? Visit the ' +\n",
              "            '<a target=\"_blank\" href=https://colab.research.google.com/notebooks/data_table.ipynb>data table notebook</a>'\n",
              "            + ' to learn more about interactive tables.';\n",
              "          element.innerHTML = '';\n",
              "          dataTable['output_type'] = 'display_data';\n",
              "          await google.colab.output.renderOutput(dataTable, element);\n",
              "          const docLink = document.createElement('div');\n",
              "          docLink.innerHTML = docLinkHtml;\n",
              "          element.appendChild(docLink);\n",
              "        }\n",
              "      </script>\n",
              "    </div>\n",
              "  </div>\n",
              "  "
            ]
          },
          "metadata": {},
          "execution_count": 7
        }
      ],
      "source": [
        "# Taking a peek at what was predicted\n",
        "\n",
        "forecast_df"
      ]
    },
    {
      "cell_type": "code",
      "execution_count": 8,
      "id": "d210c0e2-0c8d-4d5f-bedd-9201422b2b3c",
      "metadata": {
        "colab": {
          "base_uri": "https://localhost:8080/"
        },
        "id": "d210c0e2-0c8d-4d5f-bedd-9201422b2b3c",
        "outputId": "b8391075-0995-4c76-8176-62085553939f"
      },
      "outputs": [
        {
          "output_type": "execute_result",
          "data": {
            "text/plain": [
              "124.97"
            ]
          },
          "metadata": {},
          "execution_count": 8
        }
      ],
      "source": [
        "# That's almost $125 that Tesla owes us for Oct. and Nov. 2022!\n",
        "\n",
        "forecast_df['Guaranteed Price/kWh'] = 0.13980\n",
        "forecast_df['Predicted Cost to Us'] = forecast_df['Predicted kWh'] * forecast_df['Guaranteed Price/kWh']\n",
        "\n",
        "round(forecast_df['Predicted Cost to Us'].sum(), 2)"
      ]
    },
    {
      "cell_type": "markdown",
      "id": "3b448eb6-42f6-4a31-a131-15fd6acc80bc",
      "metadata": {
        "id": "3b448eb6-42f6-4a31-a131-15fd6acc80bc"
      },
      "source": [
        "**Tesla owes us ~$125 for energy not generated by Inverter 2 in Oct. and Nov. alone, according to my ARIMA model (based on the `Guaranteed Price/kWh` in the [Solar Lease Agreement](https://github.com/nickmccarty/solar-energy-predictor/blob/main/images/tesla-solar-agreement-screenshot.jpg))!**"
      ]
    },
    {
      "cell_type": "code",
      "execution_count": 9,
      "id": "e8c7b046-5b02-4f00-8d7d-9ec714d70856",
      "metadata": {
        "id": "e8c7b046-5b02-4f00-8d7d-9ec714d70856"
      },
      "outputs": [],
      "source": [
        "# Calulating RMSE from predictions\n",
        "\n",
        "test = df['Inverter 2 Energy (kWh)'][-2:]\n",
        "predictions = forecast_df['Predicted kWh']\n",
        "\n",
        "rmse = sqrt(mean_squared_error(test, predictions))"
      ]
    },
    {
      "cell_type": "code",
      "execution_count": 10,
      "id": "486824ba-3188-4f72-8ed7-ce1672cae68d",
      "metadata": {
        "colab": {
          "base_uri": "https://localhost:8080/"
        },
        "id": "486824ba-3188-4f72-8ed7-ce1672cae68d",
        "outputId": "601cb087-27c9-4db9-aa31-7923032b96ad"
      },
      "outputs": [
        {
          "output_type": "execute_result",
          "data": {
            "text/plain": [
              "131.76985244845517"
            ]
          },
          "metadata": {},
          "execution_count": 10
        }
      ],
      "source": [
        "# This suggests that the model is predicting within\n",
        "# 131 kWh for the month based on the mean that was calculated earlier --\n",
        "# similar to the performance of our baseline regressor\n",
        "\n",
        "rmse"
      ]
    },
    {
      "cell_type": "markdown",
      "id": "0e897175-1569-451b-bbe0-3c0888c52be0",
      "metadata": {
        "id": "0e897175-1569-451b-bbe0-3c0888c52be0"
      },
      "source": [
        "We can do better, but we'll have to dig a little deeper to figure out how: https://analyticsindiamag.com/quick-way-to-find-p-d-and-q-values-for-arima/\n",
        "\n",
        "# Rationale for Model Optimization"
      ]
    },
    {
      "cell_type": "code",
      "execution_count": 11,
      "id": "86c58416-4f75-461e-a290-ef0e55177146",
      "metadata": {
        "colab": {
          "base_uri": "https://localhost:8080/",
          "height": 281
        },
        "id": "86c58416-4f75-461e-a290-ef0e55177146",
        "outputId": "5742a036-8a16-4d43-8bdb-87add99f5bd3"
      },
      "outputs": [
        {
          "output_type": "display_data",
          "data": {
            "text/plain": [
              "<Figure size 432x288 with 1 Axes>"
            ],
            "image/png": "[encoded data removed]"
          },
          "metadata": {
            "needs_background": "light"
          }
        }
      ],
      "source": [
        "# Plotting the autocorrelation function:\n",
        "# plots lags on the horizontal and the correlations on vertical axis\n",
        "\n",
        "df = df[['Inverter 2 Energy (kWh)']].loc[:'9/19/2022']\n",
        "\n",
        "plot_acf(df)\n",
        "plt.show()"
      ]
    },
    {
      "cell_type": "markdown",
      "id": "3c4df383-1002-47a8-a69f-47b451110933",
      "metadata": {
        "id": "3c4df383-1002-47a8-a69f-47b451110933"
      },
      "source": [
        "This autocorrelation plot gives us insights into how we might optimize the parameters `(p, d, q)` of the ARIMA model!\n",
        "\n",
        "Here we can see that the first lag is significantly out of the limit and the second one is not, so we can select the order of the `p` as 1. \n",
        "\n",
        "We can also that none of the lags are out of the significance limit so we can say that the optimal value of our `q` (MA) is 0. This tells us how much moving average is required to remove the autocorrelation from the stationary time series (which was zero in this case). "
      ]
    },
    {
      "cell_type": "code",
      "execution_count": 12,
      "id": "3fd29ab1-12c3-4128-9375-09a14df2dd21",
      "metadata": {
        "colab": {
          "base_uri": "https://localhost:8080/",
          "height": 545
        },
        "id": "3fd29ab1-12c3-4128-9375-09a14df2dd21",
        "outputId": "b47a7171-3d58-4dcc-c62f-f9add9f47636"
      },
      "outputs": [
        {
          "output_type": "execute_result",
          "data": {
            "text/plain": [
              "<Figure size 432x288 with 3 Axes>"
            ],
            "image/png": "[encoded data removed]"
          },
          "metadata": {},
          "execution_count": 12
        },
        {
          "output_type": "display_data",
          "data": {
            "text/plain": [
              "<Figure size 432x288 with 3 Axes>"
            ],
            "image/png": "[encoded data removed]"
          },
          "metadata": {
            "needs_background": "light"
          }
        }
      ],
      "source": [
        "# More autocorrelation plots, kinda ugly\n",
        "\n",
        "fig, (ax1, ax2, ax3) = plt.subplots(3)\n",
        "\n",
        "plot_acf(df, ax=ax1)\n",
        "\n",
        "plot_acf(df.diff().dropna(), ax=ax2)\n",
        "plot_acf(df.diff().dropna(), ax=ax3)"
      ]
    },
    {
      "cell_type": "code",
      "execution_count": 13,
      "id": "65a6099b-c611-45b7-9a2e-b28f6bcee1f6",
      "metadata": {
        "colab": {
          "base_uri": "https://localhost:8080/",
          "height": 729
        },
        "id": "65a6099b-c611-45b7-9a2e-b28f6bcee1f6",
        "outputId": "e4f4aa79-3095-44d3-bd0c-56d8790b65c4"
      },
      "outputs": [
        {
          "output_type": "display_data",
          "data": {
            "text/plain": [
              "<Figure size 1080x840 with 3 Axes>"
            ],
            "image/png": "[encoded data removed]"
          },
          "metadata": {
            "needs_background": "light"
          }
        }
      ],
      "source": [
        "# Showing the noise resulting from first- and second-order differencing\n",
        "\n",
        "plt.rcParams.update({'figure.figsize':(9,7), 'figure.dpi':120})\n",
        " \n",
        "# Original series\n",
        "\n",
        "fig, (ax1, ax2, ax3) = plt.subplots(3)\n",
        "\n",
        "ax1.plot(df); ax1.set_title('Original Series'); ax1.axes.xaxis.set_visible(False)\n",
        "\n",
        "# 1st-order differencing\n",
        "\n",
        "ax2.plot(df.diff()); ax2.set_title('1st Order Differencing'); ax2.axes.xaxis.set_visible(False)\n",
        "\n",
        "# 2nd-order differencing\n",
        "\n",
        "ax3.plot(df.diff().diff()); ax3.set_title('2nd Order Differencing')\n",
        "\n",
        "plt.show()"
      ]
    },
    {
      "cell_type": "markdown",
      "id": "172c07ec-c985-49f2-b92d-eec1d5326c19",
      "metadata": {
        "id": "172c07ec-c985-49f2-b92d-eec1d5326c19"
      },
      "source": [
        "Here we can see how the time series has become stationary. One thing which is noticeable here is in first-order differencing we have less noise in the data while after first order there is an increase in the noise. So we can select first order differencing for our model. We also verified this using an autocorrelation plot. So, `d` = 1, optimally."
      ]
    },
    {
      "cell_type": "code",
      "execution_count": 14,
      "id": "804ab051-0fc6-464e-80f2-4a1da09d1092",
      "metadata": {
        "colab": {
          "base_uri": "https://localhost:8080/"
        },
        "id": "804ab051-0fc6-464e-80f2-4a1da09d1092",
        "outputId": "da86178f-436e-437b-f180-49ceb1f498f9"
      },
      "outputs": [
        {
          "output_type": "stream",
          "name": "stdout",
          "text": [
            "ADF Statistic: -1.481071\n",
            "p-value: 0.542853\n",
            "Critical Values:\n",
            "\t1%: -4.473\n",
            "\t5%: -3.290\n",
            "\t10%: -2.772\n"
          ]
        }
      ],
      "source": [
        "result = adfuller(df)\n",
        "\n",
        "print('ADF Statistic: %f' % result[0])\n",
        "print('p-value: %f' % result[1])\n",
        "print('Critical Values:')\n",
        "\n",
        "for key, value in result[4].items():\n",
        "    \n",
        "  print('\\t%s: %.3f' % (key, value))"
      ]
    },
    {
      "cell_type": "markdown",
      "id": "400defcb-9406-44ea-bdce-a1252119dae6",
      "metadata": {
        "id": "400defcb-9406-44ea-bdce-a1252119dae6"
      },
      "source": [
        "Here we can see that the p-value is more than 0.05 this means our null hypothesis will be rejected and we will take this series as non-stationary, so most of the above was not strictly unnecessary.\n",
        "\n",
        "But we provided the rationale for an optimized model where `(p,d,q) = (1,1,0)` -- let's see how it performs!"
      ]
    },
    {
      "cell_type": "code",
      "execution_count": 15,
      "id": "30b32d5a-4adc-48ae-b48f-02c00f66251b",
      "metadata": {
        "colab": {
          "base_uri": "https://localhost:8080/"
        },
        "id": "30b32d5a-4adc-48ae-b48f-02c00f66251b",
        "outputId": "10bd3cda-332a-4122-d027-36adb248aa09"
      },
      "outputs": [
        {
          "output_type": "stream",
          "name": "stdout",
          "text": [
            "                                  SARIMAX Results                                  \n",
            "===================================================================================\n",
            "Dep. Variable:     Inverter 2 Energy (kWh)   No. Observations:                   10\n",
            "Model:                      ARIMA(1, 1, 0)   Log Likelihood                 -56.733\n",
            "Date:                     Fri, 03 Feb 2023   AIC                            117.465\n",
            "Time:                             21:33:47   BIC                            117.860\n",
            "Sample:                                  0   HQIC                           116.614\n",
            "                                      - 10                                         \n",
            "Covariance Type:                       opg                                         \n",
            "==============================================================================\n",
            "                 coef    std err          z      P>|z|      [0.025      0.975]\n",
            "------------------------------------------------------------------------------\n",
            "ar.L1          0.2644      0.602      0.439      0.660      -0.915       1.444\n",
            "sigma2      1.734e+04   8627.229      2.010      0.044     432.241    3.43e+04\n",
            "===================================================================================\n",
            "Ljung-Box (L1) (Q):                   0.00   Jarque-Bera (JB):                 0.05\n",
            "Prob(Q):                              1.00   Prob(JB):                         0.97\n",
            "Heteroskedasticity (H):               0.79   Skew:                            -0.06\n",
            "Prob(H) (two-sided):                  0.85   Kurtosis:                         3.35\n",
            "===================================================================================\n",
            "\n",
            "Warnings:\n",
            "[1] Covariance matrix calculated using the outer product of gradients (complex-step).\n"
          ]
        }
      ],
      "source": [
        "# Fitting optimized ARIMA model\n",
        "\n",
        "model = ARIMA(df[['Inverter 2 Energy (kWh)']].loc[:'9/19/2022'],\n",
        "              order=(1,1,0))\n",
        "              # seasonal_order=(1, 1, 0, 12),\n",
        "              # enforce_invertibility=False)\n",
        "\n",
        "model_fit = model.fit()\n",
        "\n",
        "print(model_fit.summary())"
      ]
    },
    {
      "cell_type": "code",
      "execution_count": 16,
      "id": "b6190980-aff9-46ea-a1d3-7e5cf5de2b05",
      "metadata": {
        "colab": {
          "base_uri": "https://localhost:8080/",
          "height": 792
        },
        "id": "b6190980-aff9-46ea-a1d3-7e5cf5de2b05",
        "outputId": "1967a073-cf87-4311-82dc-2e65c1d2b307"
      },
      "outputs": [
        {
          "output_type": "display_data",
          "data": {
            "text/plain": [
              "<Figure size 1080x840 with 1 Axes>"
            ],
            "image/png": "[encoded data removed]"
          },
          "metadata": {
            "needs_background": "light"
          }
        }
      ],
      "source": [
        "# Forecasting using model\n",
        "\n",
        "forecast = model_fit.forecast(2)\n",
        "\n",
        "future_months = ['10-17-2022', '11-17-2022']\n",
        "\n",
        "forecast_df = pd.DataFrame({'Billing Period Ending': future_months,\n",
        "                            'Predicted kWh': forecast})\n",
        "\n",
        "plt.ylabel('Predicted kWh')\n",
        "plt.xticks(rotation = 45)\n",
        "plt.title('Predicted kWh for Inverter 2')\n",
        "\n",
        "plt.plot(future_months, forecast)\n",
        "\n",
        "plt.show()"
      ]
    },
    {
      "cell_type": "code",
      "execution_count": 17,
      "id": "463fc70a-3238-4963-b311-819f4683ac54",
      "metadata": {
        "colab": {
          "base_uri": "https://localhost:8080/",
          "height": 112
        },
        "id": "463fc70a-3238-4963-b311-819f4683ac54",
        "outputId": "cc86f0fa-4ef4-4269-cefb-b3d0b0e0628f"
      },
      "outputs": [
        {
          "output_type": "execute_result",
          "data": {
            "text/plain": [
              "   Billing Period Ending  Predicted kWh\n",
              "10            10-17-2022     461.188933\n",
              "11            11-17-2022     454.839468"
            ],
            "text/html": [
              "\n",
              "  <div id=\"df-fdc6a9fa-b1b5-446a-bc84-8d15d80736af\">\n",
              "    <div class=\"colab-df-container\">\n",
              "      <div>\n",
              "<style scoped>\n",
              "    .dataframe tbody tr th:only-of-type {\n",
              "        vertical-align: middle;\n",
              "    }\n",
              "\n",
              "    .dataframe tbody tr th {\n",
              "        vertical-align: top;\n",
              "    }\n",
              "\n",
              "    .dataframe thead th {\n",
              "        text-align: right;\n",
              "    }\n",
              "</style>\n",
              "<table border=\"1\" class=\"dataframe\">\n",
              "  <thead>\n",
              "    <tr style=\"text-align: right;\">\n",
              "      <th></th>\n",
              "      <th>Billing Period Ending</th>\n",
              "      <th>Predicted kWh</th>\n",
              "    </tr>\n",
              "  </thead>\n",
              "  <tbody>\n",
              "    <tr>\n",
              "      <th>10</th>\n",
              "      <td>10-17-2022</td>\n",
              "      <td>461.188933</td>\n",
              "    </tr>\n",
              "    <tr>\n",
              "      <th>11</th>\n",
              "      <td>11-17-2022</td>\n",
              "      <td>454.839468</td>\n",
              "    </tr>\n",
              "  </tbody>\n",
              "</table>\n",
              "</div>\n",
              "      <button class=\"colab-df-convert\" onclick=\"convertToInteractive('df-fdc6a9fa-b1b5-446a-bc84-8d15d80736af')\"\n",
              "              title=\"Convert this dataframe to an interactive table.\"\n",
              "              style=\"display:none;\">\n",
              "        \n",
              "  <svg xmlns=\"http://www.w3.org/2000/svg\" height=\"24px\"viewBox=\"0 0 24 24\"\n",
              "       width=\"24px\">\n",
              "    <path d=\"M0 0h24v24H0V0z\" fill=\"none\"/>\n",
              "    <path d=\"M18.56 5.44l.94 2.06.94-2.06 2.06-.94-2.06-.94-.94-2.06-.94 2.06-2.06.94zm-11 1L8.5 8.5l.94-2.06 2.06-.94-2.06-.94L8.5 2.5l-.94 2.06-2.06.94zm10 10l.94 2.06.94-2.06 2.06-.94-2.06-.94-.94-2.06-.94 2.06-2.06.94z\"/><path d=\"M17.41 7.96l-1.37-1.37c-.4-.4-.92-.59-1.43-.59-.52 0-1.04.2-1.43.59L10.3 9.45l-7.72 7.72c-.78.78-.78 2.05 0 2.83L4 21.41c.39.39.9.59 1.41.59.51 0 1.02-.2 1.41-.59l7.78-7.78 2.81-2.81c.8-.78.8-2.07 0-2.86zM5.41 20L4 18.59l7.72-7.72 1.47 1.35L5.41 20z\"/>\n",
              "  </svg>\n",
              "      </button>\n",
              "      \n",
              "  <style>\n",
              "    .colab-df-container {\n",
              "      display:flex;\n",
              "      flex-wrap:wrap;\n",
              "      gap: 12px;\n",
              "    }\n",
              "\n",
              "    .colab-df-convert {\n",
              "      background-color: #E8F0FE;\n",
              "      border: none;\n",
              "      border-radius: 50%;\n",
              "      cursor: pointer;\n",
              "      display: none;\n",
              "      fill: #1967D2;\n",
              "      height: 32px;\n",
              "      padding: 0 0 0 0;\n",
              "      width: 32px;\n",
              "    }\n",
              "\n",
              "    .colab-df-convert:hover {\n",
              "      background-color: #E2EBFA;\n",
              "      box-shadow: 0px 1px 2px rgba(60, 64, 67, 0.3), 0px 1px 3px 1px rgba(60, 64, 67, 0.15);\n",
              "      fill: #174EA6;\n",
              "    }\n",
              "\n",
              "    [theme=dark] .colab-df-convert {\n",
              "      background-color: #3B4455;\n",
              "      fill: #D2E3FC;\n",
              "    }\n",
              "\n",
              "    [theme=dark] .colab-df-convert:hover {\n",
              "      background-color: #434B5C;\n",
              "      box-shadow: 0px 1px 3px 1px rgba(0, 0, 0, 0.15);\n",
              "      filter: drop-shadow(0px 1px 2px rgba(0, 0, 0, 0.3));\n",
              "      fill: #FFFFFF;\n",
              "    }\n",
              "  </style>\n",
              "\n",
              "      <script>\n",
              "        const buttonEl =\n",
              "          document.querySelector('#df-fdc6a9fa-b1b5-446a-bc84-8d15d80736af button.colab-df-convert');\n",
              "        buttonEl.style.display =\n",
              "          google.colab.kernel.accessAllowed ? 'block' : 'none';\n",
              "\n",
              "        async function convertToInteractive(key) {\n",
              "          const element = document.querySelector('#df-fdc6a9fa-b1b5-446a-bc84-8d15d80736af');\n",
              "          const dataTable =\n",
              "            await google.colab.kernel.invokeFunction('convertToInteractive',\n",
              "                                                     [key], {});\n",
              "          if (!dataTable) return;\n",
              "\n",
              "          const docLinkHtml = 'Like what you see? Visit the ' +\n",
              "            '<a target=\"_blank\" href=https://colab.research.google.com/notebooks/data_table.ipynb>data table notebook</a>'\n",
              "            + ' to learn more about interactive tables.';\n",
              "          element.innerHTML = '';\n",
              "          dataTable['output_type'] = 'display_data';\n",
              "          await google.colab.output.renderOutput(dataTable, element);\n",
              "          const docLink = document.createElement('div');\n",
              "          docLink.innerHTML = docLinkHtml;\n",
              "          element.appendChild(docLink);\n",
              "        }\n",
              "      </script>\n",
              "    </div>\n",
              "  </div>\n",
              "  "
            ]
          },
          "metadata": {},
          "execution_count": 17
        }
      ],
      "source": [
        "# Peeking at forecasts\n",
        "\n",
        "forecast_df"
      ]
    },
    {
      "cell_type": "code",
      "execution_count": 18,
      "id": "3b376387-4e5e-4750-ac2b-e3066ef22573",
      "metadata": {
        "colab": {
          "base_uri": "https://localhost:8080/"
        },
        "id": "3b376387-4e5e-4750-ac2b-e3066ef22573",
        "outputId": "0767af6a-66bc-409e-8a77-924afc24c505"
      },
      "outputs": [
        {
          "output_type": "execute_result",
          "data": {
            "text/plain": [
              "128.06"
            ]
          },
          "metadata": {},
          "execution_count": 18
        }
      ],
      "source": [
        "# Quantifying what is owed to me by Elon...\n",
        "\n",
        "forecast_df['Guaranteed Price/kWh'] = 0.13980\n",
        "forecast_df['Predicted Cost to Us'] = forecast_df['Predicted kWh'] * forecast_df['Guaranteed Price/kWh']\n",
        "\n",
        "round(forecast_df['Predicted Cost to Us'].sum(), 2)"
      ]
    },
    {
      "cell_type": "code",
      "execution_count": 19,
      "id": "24f2414e-ae4a-48cd-8d0f-6b6bd8450312",
      "metadata": {
        "id": "24f2414e-ae4a-48cd-8d0f-6b6bd8450312"
      },
      "outputs": [],
      "source": [
        "# Calulcating error from predictions based on the mean calculated earlier\n",
        "\n",
        "test = df['Inverter 2 Energy (kWh)'][-2:]\n",
        "predictions = forecast_df['Predicted kWh']\n",
        "\n",
        "rmse = sqrt(mean_squared_error(test, predictions))"
      ]
    },
    {
      "cell_type": "code",
      "execution_count": 20,
      "id": "25b99ea1-580b-44ed-b29a-be1147b592e8",
      "metadata": {
        "colab": {
          "base_uri": "https://localhost:8080/"
        },
        "id": "25b99ea1-580b-44ed-b29a-be1147b592e8",
        "outputId": "b8e64521-7591-40c1-d504-81d90112aeff"
      },
      "outputs": [
        {
          "output_type": "execute_result",
          "data": {
            "text/plain": [
              "83.97423137807371"
            ]
          },
          "metadata": {},
          "execution_count": 20
        }
      ],
      "source": [
        "# Our optimized model can predict within 83 kWh hours what would have been\n",
        "# generated by inverter 2 in Oct. and Nov. 2022\n",
        "\n",
        "rmse"
      ]
    },
    {
      "cell_type": "markdown",
      "id": "0fa56619-e6e5-4883-b281-1847c5d4d727",
      "metadata": {
        "id": "0fa56619-e6e5-4883-b281-1847c5d4d727"
      },
      "source": [
        "A noteable improvement - and Tesla appears to owe us $3 more than originally predicted due to power loss from the malfunctioning inverter!"
      ]
    },
    {
      "cell_type": "code",
      "execution_count": 21,
      "id": "8de368bc-e61d-4342-af1f-fc7bb518dc9c",
      "metadata": {
        "colab": {
          "base_uri": "https://localhost:8080/",
          "height": 792
        },
        "id": "8de368bc-e61d-4342-af1f-fc7bb518dc9c",
        "outputId": "cdb274a4-a9cd-4581-dc1a-d25e06c37934"
      },
      "outputs": [
        {
          "output_type": "display_data",
          "data": {
            "text/plain": [
              "<Figure size 1080x840 with 1 Axes>"
            ],
            "image/png": "[encoded data removed]"
          },
          "metadata": {
            "needs_background": "light"
          }
        }
      ],
      "source": [
        "# But what about for December and January?!\n",
        "\n",
        "forecast = model_fit.forecast(4)\n",
        "\n",
        "# Assuming regular billing intervals, which we know isn't true\n",
        "\n",
        "future_months = ['10-17-2022', '11-17-2022', '12-17-2022', '1-17-2023']\n",
        "\n",
        "forecast_df = pd.DataFrame({'Billing Period Ending': future_months,\n",
        "                            'Predicted kWh': forecast})\n",
        "\n",
        "plt.ylabel('Predicted kWh')\n",
        "plt.xticks(rotation = 45)\n",
        "plt.title('Predicted kWh for Inverter 2')\n",
        "\n",
        "plt.plot(future_months, forecast)\n",
        "\n",
        "plt.show()"
      ]
    },
    {
      "cell_type": "code",
      "execution_count": 22,
      "id": "25eff3a8-548e-489e-9e9f-9f4b8d9c40cb",
      "metadata": {
        "colab": {
          "base_uri": "https://localhost:8080/",
          "height": 175
        },
        "id": "25eff3a8-548e-489e-9e9f-9f4b8d9c40cb",
        "outputId": "5a1619c2-35d8-4dff-823f-8c3b42ed3372"
      },
      "outputs": [
        {
          "output_type": "execute_result",
          "data": {
            "text/plain": [
              "   Billing Period Ending  Predicted kWh\n",
              "10            10-17-2022     461.188933\n",
              "11            11-17-2022     454.839468\n",
              "12            12-17-2022     453.160422\n",
              "13             1-17-2023     452.716416"
            ],
            "text/html": [
              "\n",
              "  <div id=\"df-e2c30302-da98-426c-9023-54bece20711d\">\n",
              "    <div class=\"colab-df-container\">\n",
              "      <div>\n",
              "<style scoped>\n",
              "    .dataframe tbody tr th:only-of-type {\n",
              "        vertical-align: middle;\n",
              "    }\n",
              "\n",
              "    .dataframe tbody tr th {\n",
              "        vertical-align: top;\n",
              "    }\n",
              "\n",
              "    .dataframe thead th {\n",
              "        text-align: right;\n",
              "    }\n",
              "</style>\n",
              "<table border=\"1\" class=\"dataframe\">\n",
              "  <thead>\n",
              "    <tr style=\"text-align: right;\">\n",
              "      <th></th>\n",
              "      <th>Billing Period Ending</th>\n",
              "      <th>Predicted kWh</th>\n",
              "    </tr>\n",
              "  </thead>\n",
              "  <tbody>\n",
              "    <tr>\n",
              "      <th>10</th>\n",
              "      <td>10-17-2022</td>\n",
              "      <td>461.188933</td>\n",
              "    </tr>\n",
              "    <tr>\n",
              "      <th>11</th>\n",
              "      <td>11-17-2022</td>\n",
              "      <td>454.839468</td>\n",
              "    </tr>\n",
              "    <tr>\n",
              "      <th>12</th>\n",
              "      <td>12-17-2022</td>\n",
              "      <td>453.160422</td>\n",
              "    </tr>\n",
              "    <tr>\n",
              "      <th>13</th>\n",
              "      <td>1-17-2023</td>\n",
              "      <td>452.716416</td>\n",
              "    </tr>\n",
              "  </tbody>\n",
              "</table>\n",
              "</div>\n",
              "      <button class=\"colab-df-convert\" onclick=\"convertToInteractive('df-e2c30302-da98-426c-9023-54bece20711d')\"\n",
              "              title=\"Convert this dataframe to an interactive table.\"\n",
              "              style=\"display:none;\">\n",
              "        \n",
              "  <svg xmlns=\"http://www.w3.org/2000/svg\" height=\"24px\"viewBox=\"0 0 24 24\"\n",
              "       width=\"24px\">\n",
              "    <path d=\"M0 0h24v24H0V0z\" fill=\"none\"/>\n",
              "    <path d=\"M18.56 5.44l.94 2.06.94-2.06 2.06-.94-2.06-.94-.94-2.06-.94 2.06-2.06.94zm-11 1L8.5 8.5l.94-2.06 2.06-.94-2.06-.94L8.5 2.5l-.94 2.06-2.06.94zm10 10l.94 2.06.94-2.06 2.06-.94-2.06-.94-.94-2.06-.94 2.06-2.06.94z\"/><path d=\"M17.41 7.96l-1.37-1.37c-.4-.4-.92-.59-1.43-.59-.52 0-1.04.2-1.43.59L10.3 9.45l-7.72 7.72c-.78.78-.78 2.05 0 2.83L4 21.41c.39.39.9.59 1.41.59.51 0 1.02-.2 1.41-.59l7.78-7.78 2.81-2.81c.8-.78.8-2.07 0-2.86zM5.41 20L4 18.59l7.72-7.72 1.47 1.35L5.41 20z\"/>\n",
              "  </svg>\n",
              "      </button>\n",
              "      \n",
              "  <style>\n",
              "    .colab-df-container {\n",
              "      display:flex;\n",
              "      flex-wrap:wrap;\n",
              "      gap: 12px;\n",
              "    }\n",
              "\n",
              "    .colab-df-convert {\n",
              "      background-color: #E8F0FE;\n",
              "      border: none;\n",
              "      border-radius: 50%;\n",
              "      cursor: pointer;\n",
              "      display: none;\n",
              "      fill: #1967D2;\n",
              "      height: 32px;\n",
              "      padding: 0 0 0 0;\n",
              "      width: 32px;\n",
              "    }\n",
              "\n",
              "    .colab-df-convert:hover {\n",
              "      background-color: #E2EBFA;\n",
              "      box-shadow: 0px 1px 2px rgba(60, 64, 67, 0.3), 0px 1px 3px 1px rgba(60, 64, 67, 0.15);\n",
              "      fill: #174EA6;\n",
              "    }\n",
              "\n",
              "    [theme=dark] .colab-df-convert {\n",
              "      background-color: #3B4455;\n",
              "      fill: #D2E3FC;\n",
              "    }\n",
              "\n",
              "    [theme=dark] .colab-df-convert:hover {\n",
              "      background-color: #434B5C;\n",
              "      box-shadow: 0px 1px 3px 1px rgba(0, 0, 0, 0.15);\n",
              "      filter: drop-shadow(0px 1px 2px rgba(0, 0, 0, 0.3));\n",
              "      fill: #FFFFFF;\n",
              "    }\n",
              "  </style>\n",
              "\n",
              "      <script>\n",
              "        const buttonEl =\n",
              "          document.querySelector('#df-e2c30302-da98-426c-9023-54bece20711d button.colab-df-convert');\n",
              "        buttonEl.style.display =\n",
              "          google.colab.kernel.accessAllowed ? 'block' : 'none';\n",
              "\n",
              "        async function convertToInteractive(key) {\n",
              "          const element = document.querySelector('#df-e2c30302-da98-426c-9023-54bece20711d');\n",
              "          const dataTable =\n",
              "            await google.colab.kernel.invokeFunction('convertToInteractive',\n",
              "                                                     [key], {});\n",
              "          if (!dataTable) return;\n",
              "\n",
              "          const docLinkHtml = 'Like what you see? Visit the ' +\n",
              "            '<a target=\"_blank\" href=https://colab.research.google.com/notebooks/data_table.ipynb>data table notebook</a>'\n",
              "            + ' to learn more about interactive tables.';\n",
              "          element.innerHTML = '';\n",
              "          dataTable['output_type'] = 'display_data';\n",
              "          await google.colab.output.renderOutput(dataTable, element);\n",
              "          const docLink = document.createElement('div');\n",
              "          docLink.innerHTML = docLinkHtml;\n",
              "          element.appendChild(docLink);\n",
              "        }\n",
              "      </script>\n",
              "    </div>\n",
              "  </div>\n",
              "  "
            ]
          },
          "metadata": {},
          "execution_count": 22
        }
      ],
      "source": [
        "forecast_df"
      ]
    },
    {
      "cell_type": "code",
      "execution_count": 23,
      "id": "6c0dd649-bb52-4ce7-9d6d-169bd625ad97",
      "metadata": {
        "colab": {
          "base_uri": "https://localhost:8080/"
        },
        "id": "6c0dd649-bb52-4ce7-9d6d-169bd625ad97",
        "outputId": "2de1eed6-9d61-45fe-e163-704272598cb1"
      },
      "outputs": [
        {
          "output_type": "execute_result",
          "data": {
            "text/plain": [
              "254.7"
            ]
          },
          "metadata": {},
          "execution_count": 23
        }
      ],
      "source": [
        "# Quantifying what is owed to me by Elon...\n",
        "\n",
        "forecast_df['Guaranteed Price/kWh'] = 0.13980\n",
        "forecast_df['Predicted Cost to Us'] = forecast_df['Predicted kWh'] * forecast_df['Guaranteed Price/kWh']\n",
        "\n",
        "round(forecast_df['Predicted Cost to Us'].sum(), 2)"
      ]
    },
    {
      "cell_type": "markdown",
      "id": "4ce82580-2dbd-45a9-8dcf-1e1b2679976f",
      "metadata": {
        "id": "4ce82580-2dbd-45a9-8dcf-1e1b2679976f"
      },
      "source": [
        "### I want my $250, Elon!\n",
        "\n",
        "<table width = \"70%\">\n",
        "    <tr>\n",
        "        <td>\n",
        "            <img src=\"https://raw.githubusercontent.com/nickmccarty/solar-energy-predictor/main/images/elon.jpeg\"/> \n",
        "        </td>\n",
        "        <td>\n",
        "            <img src=\"https://raw.githubusercontent.com/nickmccarty/solar-energy-predictor/main/images/pay-up.jpeg\"/>\n",
        "        </td>\n",
        "    </tr>\n",
        "</table>"
      ]
    }
  ],
  "metadata": {
    "kernelspec": {
      "display_name": "Python (learn-env)",
      "language": "python",
      "name": "learn-env"
    },
    "language_info": {
      "codemirror_mode": {
        "name": "ipython",
        "version": 3
      },
      "file_extension": ".py",
      "mimetype": "text/x-python",
      "name": "python",
      "nbconvert_exporter": "python",
      "pygments_lexer": "ipython3",
      "version": "3.8.5"
    },
    "colab": {
      "provenance": []
    }
  },
  "nbformat": 4,
  "nbformat_minor": 5
}