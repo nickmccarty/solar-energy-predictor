{
 "cells": [
  {
   "cell_type": "code",
   "execution_count": 1,
   "id": "678930ba-1619-4630-9b61-31f07c0f0474",
   "metadata": {},
   "outputs": [],
   "source": [
    "import pandas as pd"
   ]
  },
  {
   "cell_type": "code",
   "execution_count": 2,
   "id": "069619a0-d0b5-47e3-aea2-035730ada494",
   "metadata": {},
   "outputs": [],
   "source": [
    "df = pd.read_csv('../../data/interim/combined-solar-data.csv', index_col = 0)"
   ]
  },
  {
   "cell_type": "code",
   "execution_count": 3,
   "id": "3fdfd64b-2ff8-48e7-8ba1-f4a6c6f97714",
   "metadata": {},
   "outputs": [],
   "source": [
    "df['Date'] =  [row.split(' ')[0] for row in df['Date time']]"
   ]
  },
  {
   "cell_type": "code",
   "execution_count": 4,
   "id": "ba5d5c5a-14ae-4cdc-ac2a-ceb0f1976339",
   "metadata": {},
   "outputs": [],
   "source": [
    "df.set_index('Date', inplace = True)"
   ]
  },
  {
   "cell_type": "code",
   "execution_count": 5,
   "id": "89b5f0bf-708d-4ae5-932a-af0912c23d8b",
   "metadata": {},
   "outputs": [],
   "source": [
    "df.drop('Date time', axis = 1, inplace = True)"
   ]
  },
  {
   "cell_type": "code",
   "execution_count": 6,
   "id": "e1fe6d21-f908-40f8-a4c8-3c92518d8c66",
   "metadata": {},
   "outputs": [],
   "source": [
    "df.loc['2021-11-17' : '2022-11-17'].to_csv('../../data/processed/solar_data.csv')"
   ]
  },
  {
   "cell_type": "code",
   "execution_count": null,
   "id": "c4631d61-f044-49a5-8beb-a9352a5cf165",
   "metadata": {},
   "outputs": [],
   "source": []
  }
 ],
 "metadata": {
  "kernelspec": {
   "display_name": "Python 3 (ipykernel)",
   "language": "python",
   "name": "python3"
  },
  "language_info": {
   "codemirror_mode": {
    "name": "ipython",
    "version": 3
   },
   "file_extension": ".py",
   "mimetype": "text/x-python",
   "name": "python",
   "nbconvert_exporter": "python",
   "pygments_lexer": "ipython3",
   "version": "3.9.12"
  }
 },
 "nbformat": 4,
 "nbformat_minor": 5
}
